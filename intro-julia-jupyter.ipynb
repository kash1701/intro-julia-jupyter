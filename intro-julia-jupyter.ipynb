{
 "cells": [
  {
   "cell_type": "markdown",
   "metadata": {
    "slideshow": {
     "slide_type": "slide"
    }
   },
   "source": [
    "# Introduction to Julia and IJulia/Jupyter\n",
    "<table>\n",
    "<tr>\n",
    "<td> <a href=\"http://julialang.org\"><img src=\"src/figures/julia.png\" alt=\"Julia\" style=\"width: 150px;\"/></a></td>\n",
    "<td> <a href=\"http://jupyter.org\"><img src=\"src/figures/jupyter.png\" alt=\"Jupyter\" style=\"width: 150px;\"/></a></td>\n",
    "<td> <a href=\"https://github.com/JuliaLang/IJulia.jl\"><img src=\"src/figures/ijulia.png\" alt=\"IJulia\" style=\"width: 150px;\"/></a></td>\n",
    "</tr></table>"
   ]
  },
  {
   "cell_type": "markdown",
   "metadata": {
    "slideshow": {
     "slide_type": "skip"
    }
   },
   "source": [
    "This notebook is an introduction to the language **Julia**, and the use of the IJulia/Jupyter notebook in a statistics/optimization workflow. It is meant to be presented in 1 hour.\n",
    "The Julia language will be introduced quickly, the aim is to motivate the readers to learn the language by themselves using more thorough teaching material"
   ]
  },
  {
   "cell_type": "markdown",
   "metadata": {
    "slideshow": {
     "slide_type": "slide"
    }
   },
   "source": [
    "## Why using Julia?\n",
    "We introduce in this section **Julia**, a fast programming language that is particularly good at scientific computing.\n",
    "<a href=\"http://julialang.org\"><img src=\"src/figures/julia.png\" alt=\"Julia\" style=\"width: 150px;\"/></a>"
   ]
  },
  {
   "cell_type": "markdown",
   "metadata": {
    "slideshow": {
     "slide_type": "fragment"
    }
   },
   "source": [
    "Quoting the [Julia website](http://julialang.org):\n",
    "> Julia is a **high-level**, **high-performance** **dynamic** programming language for **technical computing**, with syntax that is familiar to users of other technical computing environments. It provides a sophisticated compiler, distributed parallel execution, numerical accuracy, and an extensive mathematical function library."
   ]
  },
  {
   "cell_type": "markdown",
   "metadata": {
    "slideshow": {
     "slide_type": "slide"
    }
   },
   "source": [
    "**High-level** language\n",
    "\n",
    "- The syntax is easy to use and learn. It will seem familiar to Python and Matlab users. It is possible to do complicated computations quickly.\n",
    "\n",
    "- Solving $Ax = b$ with \n",
    "$A = \\begin{pmatrix}\n",
    " 1 & 2 & 3\\\\ \n",
    " 2 & 1 & 2\\\\ \n",
    " 3 & 2 & 1\n",
    "\\end{pmatrix}$\n",
    "and $b = \\begin{pmatrix}\n",
    " 1 \\\\ \n",
    " 1 \\\\ \n",
    " 1 \n",
    "\\end{pmatrix}$\n",
    "is as simple as:"
   ]
  },
  {
   "cell_type": "code",
   "execution_count": 1,
   "metadata": {
    "collapsed": false,
    "slideshow": {
     "slide_type": "fragment"
    }
   },
   "outputs": [
    {
     "data": {
      "text/plain": [
       "3-element Array{Float64,1}:\n",
       "  0.25\n",
       " -0.0 \n",
       "  0.25"
      ]
     },
     "execution_count": 1,
     "metadata": {},
     "output_type": "execute_result"
    }
   ],
   "source": [
    "A = [1 2 3\n",
    "     2 1 2\n",
    "     3 2 1]\n",
    "\n",
    "b = [1,1,1]\n",
    "A\\b"
   ]
  },
  {
   "cell_type": "markdown",
   "metadata": {
    "slideshow": {
     "slide_type": "slide"
    }
   },
   "source": [
    "A **dynamic** language:\n",
    "\n",
    "- Julia is, like Python, Matlab or R, a dynamic language: you can interact with the language without the need to compile your code. Static or compiled languages, like C or Fortran, are more complicated to use but generally faster, and thus used when there is a need for time-efficient computations. \n",
    "\n",
    "- This is the _two-languages problem_: one generally use a high level language for research and scripting, and then translate the final result in a static language for performance."
   ]
  },
  {
   "cell_type": "markdown",
   "metadata": {
    "slideshow": {
     "slide_type": "slide"
    }
   },
   "source": [
    "A **High Performance** language:\n",
    "- Julia solves the two languages problem using **just-in-time compilation**. While running, your code will be automatically compiled and optimized to reach performances comparable to static languages like C, Fortran and Go.\n",
    "- Unlike R, Matlab or Python, simple loops are extremely efficient in Julia:"
   ]
  },
  {
   "cell_type": "code",
   "execution_count": 2,
   "metadata": {
    "collapsed": false,
    "slideshow": {
     "slide_type": "fragment"
    }
   },
   "outputs": [
    {
     "name": "stdout",
     "output_type": "stream",
     "text": [
      "First use: slow like a dynamic language\n",
      "  0.006397 seconds (1.52 k allocations: 72.265 KB)\n",
      "Second use: compiled and optimized automatically\n",
      "  0.000001 seconds (5 allocations: 176 bytes)\n"
     ]
    }
   ],
   "source": [
    "function countTo(n)\n",
    "    count = 0\n",
    "    for i = 1:n\n",
    "        count += 1\n",
    "    end\n",
    "    return count\n",
    "end\n",
    "println(\"First use: slow like a dynamic language\")\n",
    "@time countTo(10_000_000)\n",
    "println(\"Second use: compiled and optimized automatically\")\n",
    "@time countTo(10_000_000);"
   ]
  },
  {
   "cell_type": "markdown",
   "metadata": {
    "slideshow": {
     "slide_type": "slide"
    }
   },
   "source": [
    "A language for **technical computing**\n",
    "- Julia has a lot of built in functions for scientific computing.\n",
    "- A growing number of packages, mostly written in Julia itself.\n",
    "- More and more users in Finance, Biology, Optimization.\n",
    "- Can run C and Python code seemlessly (using Scikit for Machine Learning...)\n"
   ]
  },
  {
   "cell_type": "markdown",
   "metadata": {
    "slideshow": {
     "slide_type": "slide"
    }
   },
   "source": [
    "## Jupyter/IJulia notebook basics\n",
    "We present, install and use the Jupyter notebooks, a formidable tool made available to Julia by the IJulia project."
   ]
  },
  {
   "cell_type": "markdown",
   "metadata": {
    "slideshow": {
     "slide_type": "fragment"
    }
   },
   "source": [
    "### What is a Jupyter Notebook?\n",
    "- Jupyter notebooks are **documents** (a little like a Word document) that can contain and run code.\n",
    "- They were originally created for Python in the IPython projects, and adapted to Julia by the **IJulia** project.\n",
    "- They are very useful to **prototype**, draw **plots**, or even for teaching material like this one.\n",
    "- The document relies only on a modern browser for rendering, and can easily be **shared**."
   ]
  },
  {
   "cell_type": "markdown",
   "metadata": {
    "slideshow": {
     "slide_type": "slide"
    }
   },
   "source": [
    "### Installing IJulia and loading this notebook\n",
    "Once Julia is installed, start julia and just run the following command to install the `IJulia` package\n",
    "```jl\n",
    "Pkg.install(\"IJulia\")\n",
    "```\n",
    "This should work on its own. If there is any issue, check out the [IJulia website](https://github.com/JuliaLang/IJulia.jl).\n",
    "\n",
    "Once IJulia is installed, go to the notebook file (_.ipynb_) directory, start julia and run:\n",
    "```jl\n",
    "using IJulia\n",
    "notebook()\n",
    "```\n",
    "A webpage should open automatically, just click on the notebook to load it."
   ]
  },
  {
   "cell_type": "markdown",
   "metadata": {
    "slideshow": {
     "slide_type": "slide"
    }
   },
   "source": [
    "### Navigating the notebook\n",
    "\n",
    "- Click `Help -> User Interface Tour` for a guided tour of the interface.\n",
    "- Each notebook is composed of **cells**, that either contain code or text (`Markdown`).\n",
    "- You can edit the content of a cell by double-clicking on it (_Edit Mode_)."
   ]
  },
  {
   "cell_type": "markdown",
   "metadata": {
    "slideshow": {
     "slide_type": "slide"
    }
   },
   "source": [
    "When you are not editing a cell, you are in _Command mode_ and can edit the structure of the notebook (cells, name, options...):\n",
    "- Create a cell by:\n",
    "    - Clicking `Insert -> Insert Cell`\n",
    "    - Pressing `a` or `b` in Command Mode\n",
    "    - Pressing `Alt+Enter` in Edit Mode\n",
    "- Delete a cell by:\n",
    "    - Clicking `Edit -> Delete Cell`\n",
    "    - Pressing `dd`\n",
    "- Execute a cell by:\n",
    "    - Clicking `Cell -> Run`\n",
    "    - Pressing `Ctrl+Enter`"
   ]
  },
  {
   "cell_type": "markdown",
   "metadata": {
    "slideshow": {
     "slide_type": "slide"
    }
   },
   "source": [
    "Other functions:\n",
    "- Undo last text edit with `Ctrl+z` in Edit Mode\n",
    "- Undo last cell manipulation with `z` in Command Mode\n",
    "- Save notebook with `Ctrl+s` in Edit Mode\n",
    "- Save notebook with `s` in Command Mode\n",
    "\n",
    "Though notebooks rely on your browser to work, they do not require an internet connection (except for math rendering).\n"
   ]
  },
  {
   "cell_type": "markdown",
   "metadata": {
    "slideshow": {
     "slide_type": "slide"
    }
   },
   "source": [
    "### Get comfortable with the notebook\n",
    "Notebooks are designed to not be fragile. If you try to close a notebook with unsaved changes, the browser will warn you.\n",
    "\n",
    "Try the following exercises:"
   ]
  },
  {
   "cell_type": "markdown",
   "metadata": {
    "slideshow": {
     "slide_type": "fragment"
    }
   },
   "source": [
    ">**\\[Exercise\\]**: Close/open\n",
    "\n",
    ">1. Save the notebook\n",
    ">2. Copy the address\n",
    ">3. Close the tab\n",
    ">4. Paste the address into a new tab (or re-open the last closed tab with `Ctrl+Shift+T` on Chrome)\n",
    "\n",
    ">_The document is still there, and the Julia kernel is still alive! Nothing is lost._"
   ]
  },
  {
   "cell_type": "markdown",
   "metadata": {
    "slideshow": {
     "slide_type": "subslide"
    }
   },
   "source": [
    ">**\\[Exercise\\]**: Zoom\n",
    "\n",
    ">Try changing the magnification of the web page (`Ctrl+, Ctrl-` on Chrome).\n",
    "\n",
    ">_Text and math scale well (so do graphics if you use an SVG or PDF backend)._"
   ]
  },
  {
   "cell_type": "markdown",
   "metadata": {
    "slideshow": {
     "slide_type": "subslide"
    }
   },
   "source": [
    ">**\\[Exercise\\]**: MathJax\n",
    ">1. Create a new cell, and select the type `Markdown` (or press `m`)\n",
    ">2. Type an opening \\$, your favorite mathematical expression, and a closing \\$.\n",
    ">3. Run the cell to render the $\\LaTeX$ expression.\n",
    ">4. Right-click the rendered expression."
   ]
  },
  {
   "cell_type": "markdown",
   "metadata": {
    "slideshow": {
     "slide_type": "slide"
    }
   },
   "source": [
    "## Coding in Julia\n",
    "This section is a brief introduction to Julia. It is not a comprehensive tutorial but more a _taste_ of the language for those who do not know it, and a showcase of cool features for those who already know Julia.\n",
    "\n",
    "Very good [tutorials](http://julialang.org/learning/) are available online and in books if you are interested in learning the language."
   ]
  },
  {
   "cell_type": "markdown",
   "metadata": {
    "slideshow": {
     "slide_type": "slide"
    }
   },
   "source": [
    "### Basic use\n",
    "Julia, as a dynamic language, can simply be used as a calculator:"
   ]
  },
  {
   "cell_type": "code",
   "execution_count": 12,
   "metadata": {
    "collapsed": false,
    "slideshow": {
     "slide_type": "fragment"
    }
   },
   "outputs": [
    {
     "data": {
      "text/plain": [
       "2"
      ]
     },
     "execution_count": 12,
     "metadata": {},
     "output_type": "execute_result"
    }
   ],
   "source": [
    "1+1"
   ]
  },
  {
   "cell_type": "code",
   "execution_count": 13,
   "metadata": {
    "collapsed": false,
    "slideshow": {
     "slide_type": "fragment"
    }
   },
   "outputs": [
    {
     "data": {
      "text/plain": [
       "-0.01136232398070678"
      ]
     },
     "execution_count": 13,
     "metadata": {},
     "output_type": "execute_result"
    }
   ],
   "source": [
    "sin(exp(2*pi)+sqrt(3))"
   ]
  },
  {
   "cell_type": "markdown",
   "metadata": {
    "slideshow": {
     "slide_type": "slide"
    }
   },
   "source": [
    "The building blocs of Julia code are variables:"
   ]
  },
  {
   "cell_type": "code",
   "execution_count": 3,
   "metadata": {
    "collapsed": false,
    "slideshow": {
     "slide_type": "fragment"
    }
   },
   "outputs": [
    {
     "data": {
      "text/plain": [
       "9"
      ]
     },
     "execution_count": 3,
     "metadata": {},
     "output_type": "execute_result"
    }
   ],
   "source": [
    "a = 1\n",
    "b = 2\n",
    "# This is a comment \n",
    "c = a^2 + b^3 "
   ]
  },
  {
   "cell_type": "markdown",
   "metadata": {
    "slideshow": {
     "slide_type": "slide"
    }
   },
   "source": [
    "Julia supports the common `if`, `while` and `for` structures:"
   ]
  },
  {
   "cell_type": "code",
   "execution_count": 4,
   "metadata": {
    "collapsed": false,
    "slideshow": {
     "slide_type": "subslide"
    }
   },
   "outputs": [
    {
     "name": "stdout",
     "output_type": "stream",
     "text": [
      "Huchette"
     ]
    }
   ],
   "source": [
    "if c >= 10\n",
    "    print(\"Joey\")\n",
    "else\n",
    "    print(\"Huchette\")\n",
    "end"
   ]
  },
  {
   "cell_type": "code",
   "execution_count": 5,
   "metadata": {
    "collapsed": false,
    "slideshow": {
     "slide_type": "subslide"
    }
   },
   "outputs": [
    {
     "name": "stdout",
     "output_type": "stream",
     "text": [
      "Joey!\n",
      "Joey!\n",
      "Joey!\n",
      "Joey!\n",
      "Joey!\n"
     ]
    }
   ],
   "source": [
    "i = 1\n",
    "while i <= 5\n",
    "    println(\"Joey!\") # Print with a new line\n",
    "    i += 1\n",
    "end"
   ]
  },
  {
   "cell_type": "code",
   "execution_count": 6,
   "metadata": {
    "collapsed": false,
    "slideshow": {
     "slide_type": "subslide"
    }
   },
   "outputs": [
    {
     "name": "stdout",
     "output_type": "stream",
     "text": [
      "1 Joey\n",
      "2 Joeys\n",
      "3 Joeys\n"
     ]
    }
   ],
   "source": [
    "for i = 1:3\n",
    "    print(\"$i Joey\") # '$' can be used to insert variables into text\n",
    "    if i>1\n",
    "        print(\"s\")\n",
    "    end\n",
    "    println() # Just a new line\n",
    "end"
   ]
  },
  {
   "cell_type": "markdown",
   "metadata": {
    "slideshow": {
     "slide_type": "subslide"
    }
   },
   "source": [
    "**Do not worry about writing loops**: in Julia, they are as fast as writing vectorized code, and sometimes faster!"
   ]
  },
  {
   "cell_type": "markdown",
   "metadata": {
    "slideshow": {
     "slide_type": "slide"
    }
   },
   "source": [
    "**Arrays** (list of numbers) are at the core of research computing and Julia's arrays are extremely optimized."
   ]
  },
  {
   "cell_type": "code",
   "execution_count": 9,
   "metadata": {
    "collapsed": false,
    "slideshow": {
     "slide_type": "fragment"
    }
   },
   "outputs": [
    {
     "data": {
      "text/plain": [
       "3-element Array{Int64,1}:\n",
       " 1\n",
       " 2\n",
       " 3"
      ]
     },
     "execution_count": 9,
     "metadata": {},
     "output_type": "execute_result"
    }
   ],
   "source": [
    "myList = [1, 2, 3]"
   ]
  },
  {
   "cell_type": "markdown",
   "metadata": {
    "slideshow": {
     "slide_type": "fragment"
    }
   },
   "source": [
    "Array indexing starts with 1 in Julia:"
   ]
  },
  {
   "cell_type": "code",
   "execution_count": 10,
   "metadata": {
    "collapsed": false,
    "slideshow": {
     "slide_type": "fragment"
    }
   },
   "outputs": [
    {
     "data": {
      "text/plain": [
       "1"
      ]
     },
     "execution_count": 10,
     "metadata": {},
     "output_type": "execute_result"
    }
   ],
   "source": [
    "myList[1]"
   ]
  },
  {
   "cell_type": "code",
   "execution_count": 11,
   "metadata": {
    "collapsed": false,
    "slideshow": {
     "slide_type": "fragment"
    }
   },
   "outputs": [
    {
     "data": {
      "text/plain": [
       "3-element Array{Int64,1}:\n",
       " 1\n",
       " 2\n",
       " 4"
      ]
     },
     "execution_count": 11,
     "metadata": {},
     "output_type": "execute_result"
    }
   ],
   "source": [
    "myList[3] = 4\n",
    "myList"
   ]
  },
  {
   "cell_type": "markdown",
   "metadata": {
    "slideshow": {
     "slide_type": "slide"
    }
   },
   "source": [
    "A 2-dimensional array is a Matrix"
   ]
  },
  {
   "cell_type": "code",
   "execution_count": 14,
   "metadata": {
    "collapsed": false,
    "slideshow": {
     "slide_type": "fragment"
    }
   },
   "outputs": [
    {
     "data": {
      "text/plain": [
       "3×3 Array{Int64,2}:\n",
       " 1  2  3\n",
       " 2  1  2\n",
       " 3  2  1"
      ]
     },
     "execution_count": 14,
     "metadata": {},
     "output_type": "execute_result"
    }
   ],
   "source": [
    "A = [1 2 3\n",
    "     2 1 2\n",
    "     3 2 1]\n",
    "\n",
    "A = [1 2 3; 2 1 2; 3 2 1] #same thing"
   ]
  },
  {
   "cell_type": "markdown",
   "metadata": {
    "slideshow": {
     "slide_type": "slide"
    }
   },
   "source": [
    "Matrix can be multiplied, inversed..."
   ]
  },
  {
   "cell_type": "code",
   "execution_count": 15,
   "metadata": {
    "collapsed": false,
    "slideshow": {
     "slide_type": "subslide"
    }
   },
   "outputs": [
    {
     "data": {
      "text/plain": [
       "3×3 Array{Float64,2}:\n",
       " 1.0  2.0  3.0\n",
       " 2.0  1.0  2.0\n",
       " 3.0  2.0  1.0"
      ]
     },
     "execution_count": 15,
     "metadata": {},
     "output_type": "execute_result"
    }
   ],
   "source": [
    "A^-1 #inverse\n",
    "\n",
    "A^2 * A^-1"
   ]
  },
  {
   "cell_type": "code",
   "execution_count": 16,
   "metadata": {
    "collapsed": false,
    "slideshow": {
     "slide_type": "subslide"
    }
   },
   "outputs": [
    {
     "data": {
      "text/plain": [
       "3-element Array{Int64,1}:\n",
       " 14\n",
       " 10\n",
       " 10"
      ]
     },
     "execution_count": 16,
     "metadata": {},
     "output_type": "execute_result"
    }
   ],
   "source": [
    "A*[1,2,3]"
   ]
  },
  {
   "cell_type": "code",
   "execution_count": 17,
   "metadata": {
    "collapsed": false,
    "slideshow": {
     "slide_type": "subslide"
    }
   },
   "outputs": [
    {
     "data": {
      "text/plain": [
       "3-element Array{Float64,1}:\n",
       " -2.0     \n",
       " -0.701562\n",
       "  5.70156 "
      ]
     },
     "execution_count": 17,
     "metadata": {},
     "output_type": "execute_result"
    }
   ],
   "source": [
    "eigenValues, eigenVectors = eig(A)\n",
    "eigenValues"
   ]
  },
  {
   "cell_type": "markdown",
   "metadata": {
    "slideshow": {
     "slide_type": "slide"
    }
   },
   "source": [
    "**Types:** Everything has a type in Julia"
   ]
  },
  {
   "cell_type": "code",
   "execution_count": 18,
   "metadata": {
    "collapsed": false,
    "slideshow": {
     "slide_type": "fragment"
    }
   },
   "outputs": [
    {
     "data": {
      "text/plain": [
       "Int64"
      ]
     },
     "execution_count": 18,
     "metadata": {},
     "output_type": "execute_result"
    }
   ],
   "source": [
    "typeof(1)"
   ]
  },
  {
   "cell_type": "code",
   "execution_count": 19,
   "metadata": {
    "collapsed": false,
    "slideshow": {
     "slide_type": "fragment"
    }
   },
   "outputs": [
    {
     "data": {
      "text/plain": [
       "Float64"
      ]
     },
     "execution_count": 19,
     "metadata": {},
     "output_type": "execute_result"
    }
   ],
   "source": [
    "typeof(1.5)"
   ]
  },
  {
   "cell_type": "code",
   "execution_count": 20,
   "metadata": {
    "collapsed": false,
    "slideshow": {
     "slide_type": "fragment"
    }
   },
   "outputs": [
    {
     "data": {
      "text/plain": [
       "String"
      ]
     },
     "execution_count": 20,
     "metadata": {},
     "output_type": "execute_result"
    }
   ],
   "source": [
    "typeof(\"abc\")"
   ]
  },
  {
   "cell_type": "markdown",
   "metadata": {
    "slideshow": {
     "slide_type": "slide"
    }
   },
   "source": [
    "Types are at the core of Julia's performance. **[multiple dispatch](https://en.wikipedia.org/wiki/Multiple_dispatch)** is used dynamically when a function is called, selecting the right version of the function depending on the type of its argument."
   ]
  },
  {
   "cell_type": "code",
   "execution_count": 21,
   "metadata": {
    "collapsed": false,
    "slideshow": {
     "slide_type": "subslide"
    }
   },
   "outputs": [
    {
     "data": {
      "text/plain": [
       "1//2"
      ]
     },
     "execution_count": 21,
     "metadata": {},
     "output_type": "execute_result"
    }
   ],
   "source": [
    "1//2"
   ]
  },
  {
   "cell_type": "code",
   "execution_count": 22,
   "metadata": {
    "collapsed": false,
    "slideshow": {
     "slide_type": "subslide"
    }
   },
   "outputs": [
    {
     "data": {
      "text/plain": [
       "Rational{Int64}"
      ]
     },
     "execution_count": 22,
     "metadata": {},
     "output_type": "execute_result"
    }
   ],
   "source": [
    "typeof(1//2)"
   ]
  },
  {
   "cell_type": "code",
   "execution_count": 23,
   "metadata": {
    "collapsed": false,
    "slideshow": {
     "slide_type": "subslide"
    }
   },
   "outputs": [
    {
     "data": {
      "text/plain": [
       "1//4"
      ]
     },
     "execution_count": 23,
     "metadata": {},
     "output_type": "execute_result"
    }
   ],
   "source": [
    "(1//2)^2"
   ]
  },
  {
   "cell_type": "code",
   "execution_count": 24,
   "metadata": {
    "collapsed": false,
    "slideshow": {
     "slide_type": "subslide"
    }
   },
   "outputs": [
    {
     "data": {
      "text/plain": [
       "0.25"
      ]
     },
     "execution_count": 24,
     "metadata": {},
     "output_type": "execute_result"
    }
   ],
   "source": [
    "(0.5)^2 # The same function gives different results depending on the type"
   ]
  },
  {
   "cell_type": "code",
   "execution_count": 25,
   "metadata": {
    "collapsed": false,
    "slideshow": {
     "slide_type": "subslide"
    }
   },
   "outputs": [
    {
     "data": {
      "text/plain": [
       "-1 + 0im"
      ]
     },
     "execution_count": 25,
     "metadata": {},
     "output_type": "execute_result"
    }
   ],
   "source": [
    "(im)^2 # This also works with complex numbers"
   ]
  },
  {
   "cell_type": "code",
   "execution_count": 26,
   "metadata": {
    "collapsed": false,
    "slideshow": {
     "slide_type": "subslide"
    }
   },
   "outputs": [
    {
     "name": "stdout",
     "output_type": "stream",
     "text": [
      "Julia!\n",
      "IJulia!\n",
      "Julia!\n"
     ]
    }
   ],
   "source": [
    "function myFunction(x)\n",
    "    println(\"Julia!\")\n",
    "end\n",
    "\n",
    "function myFunction(x::Int) # only called when x is an integer\n",
    "    println(\"IJulia!\")\n",
    "end\n",
    "\n",
    "myFunction(1.0)\n",
    "myFunction(1)\n",
    "myFunction(\"Joey\")"
   ]
  },
  {
   "cell_type": "markdown",
   "metadata": {
    "slideshow": {
     "slide_type": "slide"
    }
   },
   "source": [
    "A lot more functionalities are available and for you to discover!"
   ]
  },
  {
   "cell_type": "code",
   "execution_count": 27,
   "metadata": {
    "collapsed": false,
    "slideshow": {
     "slide_type": "fragment"
    }
   },
   "outputs": [
    {
     "data": {
      "text/plain": [
       "5-element Array{Int64,1}:\n",
       "   4\n",
       "  16\n",
       "  36\n",
       "  64\n",
       " 100"
      ]
     },
     "execution_count": 27,
     "metadata": {},
     "output_type": "execute_result"
    }
   ],
   "source": [
    "l = [i^2 for i in 1:10 if i%2 == 0] # list comprehensions (similar to Python)"
   ]
  },
  {
   "cell_type": "markdown",
   "metadata": {
    "slideshow": {
     "slide_type": "slide"
    }
   },
   "source": [
    "### Navigating Julia\n",
    "Julia has a package manager to quickly download, install, update and uninstall new tools (_packages_)"
   ]
  },
  {
   "cell_type": "code",
   "execution_count": null,
   "metadata": {
    "collapsed": true,
    "slideshow": {
     "slide_type": "fragment"
    }
   },
   "outputs": [],
   "source": [
    "# Add Packages Plots, and Pyplot (can take some time)\n",
    "Pkg.add(\"Plots\")\n",
    "Pkg.add(\"PyPlot\")\n",
    "# Update\n",
    "Pkg.update()\n",
    "#Remove:\n",
    "# Pkg.rm(\"PyPlot\")"
   ]
  },
  {
   "cell_type": "markdown",
   "metadata": {
    "slideshow": {
     "slide_type": "slide"
    }
   },
   "source": [
    "Use `?` to get the documentation of a function"
   ]
  },
  {
   "cell_type": "code",
   "execution_count": 28,
   "metadata": {
    "collapsed": false,
    "slideshow": {
     "slide_type": "fragment"
    }
   },
   "outputs": [
    {
     "name": "stdout",
     "output_type": "stream",
     "text": [
      "search: \u001b[1me\u001b[22m\u001b[1mi\u001b[22m\u001b[1mg\u001b[22m \u001b[1me\u001b[22m\u001b[1mi\u001b[22m\u001b[1mg\u001b[22ms \u001b[1me\u001b[22m\u001b[1mi\u001b[22m\u001b[1mg\u001b[22mmin \u001b[1me\u001b[22m\u001b[1mi\u001b[22m\u001b[1mg\u001b[22mmax \u001b[1me\u001b[22m\u001b[1mi\u001b[22m\u001b[1mg\u001b[22mvecs \u001b[1me\u001b[22m\u001b[1mi\u001b[22m\u001b[1mg\u001b[22mvals \u001b[1me\u001b[22m\u001b[1mi\u001b[22m\u001b[1mg\u001b[22mfact \u001b[1me\u001b[22m\u001b[1mi\u001b[22m\u001b[1mg\u001b[22mvals! \u001b[1me\u001b[22m\u001b[1mi\u001b[22m\u001b[1mg\u001b[22mfact!\n",
      "\n"
     ]
    },
    {
     "data": {
      "text/markdown": [
       "```\n",
       "eig(A,[irange,][vl,][vu,][permute=true,][scale=true]) -> D, V\n",
       "```\n",
       "\n",
       "Computes eigenvalues (`D`) and eigenvectors (`V`) of `A`. See [`eigfact`](:func:`eigfact`) for details on the `irange`, `vl`, and `vu` arguments and the `permute` and `scale` keyword arguments. The eigenvectors are returned columnwise.\n",
       "\n",
       "```jldoctest\n",
       "julia> eig([1.0 0.0 0.0; 0.0 3.0 0.0; 0.0 0.0 18.0])\n",
       "([1.0,3.0,18.0],\n",
       "[1.0 0.0 0.0; 0.0 1.0 0.0; 0.0 0.0 1.0])\n",
       "```\n",
       "\n",
       "`eig` is a wrapper around [`eigfact`](:func:`eigfact`), extracting all parts of the factorization to a tuple; where possible, using [`eigfact`](:func:`eigfact`) is recommended.\n",
       "\n",
       "```\n",
       "eig(A, B) -> D, V\n",
       "```\n",
       "\n",
       "Computes generalized eigenvalues (`D`) and vectors (`V`) of `A` with respect to `B`.\n",
       "\n",
       "`eig` is a wrapper around [`eigfact`](:func:`eigfact`), extracting all parts of the factorization to a tuple; where possible, using [`eigfact`](:func:`eigfact`) is recommended.\n",
       "\n",
       "```jldoctest\n",
       "julia> A = [1 0; 0 -1]\n",
       "2×2 Array{Int64,2}:\n",
       " 1   0\n",
       " 0  -1\n",
       "\n",
       "julia> B = [0 1; 1 0]\n",
       "2×2 Array{Int64,2}:\n",
       " 0  1\n",
       " 1  0\n",
       "\n",
       "julia> eig(A, B)\n",
       "(Complex{Float64}[0.0+1.0im,0.0-1.0im],\n",
       "Complex{Float64}[0.0-1.0im 0.0+1.0im; -1.0-0.0im -1.0+0.0im])\n",
       "```\n"
      ],
      "text/plain": [
       "```\n",
       "eig(A,[irange,][vl,][vu,][permute=true,][scale=true]) -> D, V\n",
       "```\n",
       "\n",
       "Computes eigenvalues (`D`) and eigenvectors (`V`) of `A`. See [`eigfact`](:func:`eigfact`) for details on the `irange`, `vl`, and `vu` arguments and the `permute` and `scale` keyword arguments. The eigenvectors are returned columnwise.\n",
       "\n",
       "```jldoctest\n",
       "julia> eig([1.0 0.0 0.0; 0.0 3.0 0.0; 0.0 0.0 18.0])\n",
       "([1.0,3.0,18.0],\n",
       "[1.0 0.0 0.0; 0.0 1.0 0.0; 0.0 0.0 1.0])\n",
       "```\n",
       "\n",
       "`eig` is a wrapper around [`eigfact`](:func:`eigfact`), extracting all parts of the factorization to a tuple; where possible, using [`eigfact`](:func:`eigfact`) is recommended.\n",
       "\n",
       "```\n",
       "eig(A, B) -> D, V\n",
       "```\n",
       "\n",
       "Computes generalized eigenvalues (`D`) and vectors (`V`) of `A` with respect to `B`.\n",
       "\n",
       "`eig` is a wrapper around [`eigfact`](:func:`eigfact`), extracting all parts of the factorization to a tuple; where possible, using [`eigfact`](:func:`eigfact`) is recommended.\n",
       "\n",
       "```jldoctest\n",
       "julia> A = [1 0; 0 -1]\n",
       "2×2 Array{Int64,2}:\n",
       " 1   0\n",
       " 0  -1\n",
       "\n",
       "julia> B = [0 1; 1 0]\n",
       "2×2 Array{Int64,2}:\n",
       " 0  1\n",
       " 1  0\n",
       "\n",
       "julia> eig(A, B)\n",
       "(Complex{Float64}[0.0+1.0im,0.0-1.0im],\n",
       "Complex{Float64}[0.0-1.0im 0.0+1.0im; -1.0-0.0im -1.0+0.0im])\n",
       "```\n"
      ]
     },
     "execution_count": 28,
     "metadata": {},
     "output_type": "execute_result"
    }
   ],
   "source": [
    "?eig"
   ]
  },
  {
   "cell_type": "markdown",
   "metadata": {
    "slideshow": {
     "slide_type": "slide"
    }
   },
   "source": [
    "Use tab-completion to auto-complete functions and variables names: try ``myF<TAB>``:"
   ]
  },
  {
   "cell_type": "code",
   "execution_count": null,
   "metadata": {
    "collapsed": false,
    "slideshow": {
     "slide_type": "fragment"
    }
   },
   "outputs": [],
   "source": [
    "myF\n",
    "fac"
   ]
  },
  {
   "cell_type": "markdown",
   "metadata": {
    "slideshow": {
     "slide_type": "slide"
    }
   },
   "source": [
    "The ``methods`` function lists all of the different implementations of a function depending on the input types.\n",
    "Click on the link to see the Julia source code."
   ]
  },
  {
   "cell_type": "code",
   "execution_count": 29,
   "metadata": {
    "collapsed": false,
    "slideshow": {
     "slide_type": "fragment"
    }
   },
   "outputs": [
    {
     "data": {
      "text/html": [
       "10 methods for generic function <b>sin</b>:<ul><li> sin(x::<b>BigFloat</b>) at <a href=\"https://github.com/JuliaLang/julia/tree/3c9d75391c72d7c32eea75ff187ce77b2d5effc8/base/mpfr.jl#L610\" target=\"_blank\">mpfr.jl:610</a></li> <li> sin(a::<b>Complex{Float16}</b>) at <a href=\"https://github.com/JuliaLang/julia/tree/3c9d75391c72d7c32eea75ff187ce77b2d5effc8/base/math.jl#L480\" target=\"_blank\">math.jl:480</a></li> <li> sin(a::<b>Float16</b>) at <a href=\"https://github.com/JuliaLang/julia/tree/3c9d75391c72d7c32eea75ff187ce77b2d5effc8/base/math.jl#L479\" target=\"_blank\">math.jl:479</a></li> <li> sin(x::<b>Float32</b>) at <a href=\"https://github.com/JuliaLang/julia/tree/3c9d75391c72d7c32eea75ff187ce77b2d5effc8/base/math.jl#L203\" target=\"_blank\">math.jl:203</a></li> <li> sin(x::<b>Float64</b>) at <a href=\"https://github.com/JuliaLang/julia/tree/3c9d75391c72d7c32eea75ff187ce77b2d5effc8/base/math.jl#L202\" target=\"_blank\">math.jl:202</a></li> <li> sin<i>{T}</i>(z::<b>Complex{T}</b>) at <a href=\"https://github.com/JuliaLang/julia/tree/3c9d75391c72d7c32eea75ff187ce77b2d5effc8/base/complex.jl#L575\" target=\"_blank\">complex.jl:575</a></li> <li> sin(x::<b>Real</b>) at <a href=\"https://github.com/JuliaLang/julia/tree/3c9d75391c72d7c32eea75ff187ce77b2d5effc8/base/math.jl#L204\" target=\"_blank\">math.jl:204</a></li> <li> sin<i>{Tv,Ti}</i>(A::<b>SparseMatrixCSC{Tv,Ti}</b>) at <a href=\"https://github.com/JuliaLang/julia/tree/3c9d75391c72d7c32eea75ff187ce77b2d5effc8/base/sparse/sparsematrix.jl#L1347\" target=\"_blank\">sparse/sparsematrix.jl:1347</a></li> <li> sin<i>{Tv<:Number,Ti<:Integer}</i>(x::<b>AbstractSparseArray{Tv,Ti,1}</b>) at <a href=\"https://github.com/JuliaLang/julia/tree/3c9d75391c72d7c32eea75ff187ce77b2d5effc8/base/sparse/sparsevector.jl#L853\" target=\"_blank\">sparse/sparsevector.jl:853</a></li> <li> sin<i>{T<:Number}</i>(x::<b>AbstractArray{T,N<:Any}</b>) at <a href=\"https://github.com/JuliaLang/julia/tree/3c9d75391c72d7c32eea75ff187ce77b2d5effc8/base/operators.jl#L555\" target=\"_blank\">operators.jl:555</a></li> </ul>"
      ],
      "text/plain": [
       "# 10 methods for generic function \"sin\":\n",
       "sin(x::BigFloat) at mpfr.jl:610\n",
       "sin(a::Complex{Float16}) at math.jl:480\n",
       "sin(a::Float16) at math.jl:479\n",
       "sin(x::Float32) at math.jl:203\n",
       "sin(x::Float64) at math.jl:202\n",
       "sin{T}(z::Complex{T}) at complex.jl:575\n",
       "sin(x::Real) at math.jl:204\n",
       "sin{Tv,Ti}(A::SparseMatrixCSC{Tv,Ti}) at sparse/sparsematrix.jl:1347\n",
       "sin{Tv<:Number,Ti<:Integer}(x::AbstractSparseArray{Tv,Ti,1}) at sparse/sparsevector.jl:853\n",
       "sin{T<:Number}(x::AbstractArray{T,N<:Any}) at operators.jl:555"
      ]
     },
     "execution_count": 29,
     "metadata": {},
     "output_type": "execute_result"
    }
   ],
   "source": [
    "methods(sin)"
   ]
  },
  {
   "cell_type": "markdown",
   "metadata": {
    "slideshow": {
     "slide_type": "slide"
    }
   },
   "source": [
    "### Plotting in IJulia\n",
    "There are several Julia plotting packages. \n",
    "\n",
    "- [PyPlot.jl][3] is a Julia interface to Matplotlib, and should feel familiar to both MATLAB and Python users.\n",
    "- [Gadfly][1] is written entirely in Julia, inspired by ggplot2, and concentrates on statistical graphics.\n",
    "- [Plotly supports Julia][2].\n",
    "- [Plots][4] is a _meta_ plotting package, that can use any other plotting package to make the same plot \n",
    "- And a lot more\n",
    "\n",
    "Jupyter/IJulia will render the plots directly on the notebook!\n",
    "\n",
    "[1]: https://github.com/dcjones/Gadfly.jl\n",
    "[2]: https://plot.ly/julia/\n",
    "[3]: https://github.com/stevengj/PyPlot.jl\n",
    "[4]: https://juliaplots.github.io"
   ]
  },
  {
   "cell_type": "code",
   "execution_count": 46,
   "metadata": {
    "collapsed": false,
    "scrolled": true,
    "slideshow": {
     "slide_type": "slide"
    }
   },
   "outputs": [
    {
     "data": {
      "text/html": [
       "<img src=\"data:image/png;base64,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\" />"
      ]
     },
     "execution_count": 46,
     "metadata": {},
     "output_type": "execute_result"
    }
   ],
   "source": [
    "using Plots\n",
    "pyplot() #plot using Matplotlib\n",
    "x = linspace(0,5,1000)\n",
    "plot(x, sin(x.^2))"
   ]
  },
  {
   "cell_type": "markdown",
   "metadata": {
    "slideshow": {
     "slide_type": "fragment"
    }
   },
   "source": [
    "Note that the first plot while always take a few seconds to be drawn, a consequence of Julia's just in time compilation."
   ]
  },
  {
   "cell_type": "code",
   "execution_count": 48,
   "metadata": {
    "collapsed": false,
    "slideshow": {
     "slide_type": "slide"
    }
   },
   "outputs": [
    {
     "data": {
      "text/html": [
       "<div id=\"6e3e76b7-ac2a-4947-bafc-0a607a762d87\" class=\"plotly-graph-div\"></div>\n",
       "\n",
       "<script>\n",
       "    window.PLOTLYENV=window.PLOTLYENV || {};\n",
       "    window.PLOTLYENV.BASE_URL=\"https://plot.ly\";\n",
       "    require(['plotly'], function(Plotly) {\n",
       "        Plotly.newPlot('6e3e76b7-ac2a-4947-bafc-0a607a762d87', [{\"yaxis\":\"y\",\"y\":[0.0,2.5050075097505304e-5,0.00010020030023283043,0.00022545067399125826,0.00040080119087111123,0.000626251836568028,0.0009018025813729521,0.0012274533716838346,0.0016032041196310568,0.0020290546908165795,0.002505004890166837,0.003031054445899389,0.0036072029916033787,0.004233450046433817,0.004909794993419767,0.005636237055886516,0.006412775271991794,0.007239408467376208,0.00811613522592802,0.00904295385866245,0.01001986237071575,0.0110468584264543,0.01212393931269905,0.013251101900065667,0.014428342602420848,0.01565565733445524,0.016933041467373598,0.018260489782702782,0.01963799642421835,0.021065554847990556,0.0225431577705507,0.02407079711517886,0.02564846395631413,0.027276148462088687,0.0289538398349871,0.03068152625063236,0.032459194794700455,0.03428683139796528,0.03616442076947592,0.038091946327868616,0.04006939013081572,0.04209673280261434,0.04417395345991752,0.04630102963561096,0.04847793720083857,0.05070465028518052,0.0529811411949875,0.05530738032987528,0.05768333609738403,0.06010897482580696,0.0625842606751934,0.06510915554653149,0.06768361898911639,0.07030760810610961,0.07298107745829642,0.07570397896604752,0.07847626180949258,0.08129787232691306,0.08416875391136235,0.08708884690552164,0.09005808849480068,0.09307641259869254,0.0961437497603924,0.09926002703469099,0.10242516787415325,0.10563909201359399,0.10890171535286258,0.11221294983794922,0.11557270334042599,0.11898087953523685,0.12243737777685076,0.12594209297379313,0.12949491546157166,0.13309573087401289,0.13674442001302664,0.14044085871681677,0.1441849177265561,0.14797646255154612,0.15181535333288085,0.1557014447056364,0.15963458565960803,0.16361461939861768,0.1676413831984154,0.17171470826319926,0.17583441958077953,0.18000033577641308,0.1842122689653358,0.1884700246040209,0.1927734013401931,0.1971221908616285,0.2015161777437717,0.20595513929620293,0.21043884540798835,0.21496705839194838,0.21953953282788002,0.22415601540476987,0.22881624476203596,0.23351995132983808,0.23826685716849658,0.24305667580706206,0.24788911208107844,0.2527638619695839,0.2576806124313954,0.2626390412407242,0.26763881682216895,0.2726795980851386,0.27776103425775367,0.2828827647202798,0.2880444188381475,0.2932456157946124,0.2984859644231135,0.30376506303938794,0.30908249927340115,0.31443784990115525,0.3198306806764361,0.3252605461625665,0.33072698956422847,0.3362295425594253,0.34176772513164905,0.34734104540232835,0.3529489994636253,0.3585910712116583,0.3642667321802253,0.36997544137510563,0.3757166451090192,0.38148977683732493,0.3872942569945402,0.39312949283176585,0.39899487825510477,0.40488979366515926,0.4108136057976996,0.4167656675655936,0.4227453179020924,0.42875188160556593,0.43478466918578634,0.44084297671185835,0.4469260856618965,0.4530332627745528,0.45916375990249886,0.4653168138679687,0.47149164632047086,0.47768746359677966,0.4839034565833173,0.4901388005810409,0.49639265517295045,0.5026641640943338,0.5089524551058696,0.5152566398697092,0.5215758138286584,0.5279090560885881,0.5342554293041949,0.5406139795682462,0.5469837363044351,0.5533637121639796,0.5597529029261002,0.56615028740251,0.5725548273460553,0.5789654673636466,0.5853811348336189,0.5918007398276651,0.5982231750374872,0.6046473157063077,0.6110720195653921,0.6174961267757301,0.6239184598750238,0.6303378237301381,0.6367530054951644,0.6431627745752517,0.6495658825963639,0.6559610633811177,0.6623470329308608,0.6687224894141526,0.6750861131618033,0.6814365666686399,0.6877724946021568,0.6940925238182198,0.7003952633839854,0.7066793046082042,0.7129432210790744,0.7191855687098124,0.7254048857921116,0.7315996930576556,0.7377684937478581,0.743909773691999,0.7500220013939253,0.7561036281274939,0.7621530880409187,0.7681687982702029,0.7741491590618198,0.7800925539048204,0.7859973496725342,0.7918618967740383,0.7976845293155624,0.8034635652720027,0.809197306668714,0.8148840397737485,0.8205220353007113,0.8261095486223998,0.8316448199953933,0.8371260747957596,0.8425515237660424,0.8479193632736924,0.8532277755811056,0.8584749291274256,0.8636589788222724,0.86877806635155,0.8738303204954903,0.8788138574590849,0.883726781215053,0.8885671838594957,0.893333145980379,0.8980227370389897,0.9026340157645011,0.907165030561787,0.9116138199326148,0.9159784129103479,0.920256829508283,0.9244470811817439,0.9285471713040501,0.932555095656474,0.9364688429322959,0.9402863952550622,0.9440057287111451,0.9476248138967036,0.9511416164791305,0.9545540977730742,0.9578602153311134,0.9610579235491588,0.9641451742866488,0.9671199175016026,0.9699801019005847,0.9727236756036296,0.9753485868241711,0.9778527845640085,0.9802342193233395,0.9824908438258809,0.9846206137590883,0.9866214885294822,0.9884914320330764,0.9902284134408981,0.9918304079995797,0.9932953978469957,0.9946213728429044,0.9958063314145514,0.996848281417177,0.997745241009362,0.9984952395431392,0.9990963184687806,0.999546532254169,0.9998439493186466,0.9999866529812207,0.9999727424230029,0.9998003336637397,0.9994675605522831,0.9989725757708431,0.998313551852841,0.9974886822141839,0.9964961821977566,0.9953342901309218,0.9940012683958039,0.9924954045121194,0.9908150122323022,0.9889584326486625,0.9869240353122983,0.9847102193634721,0.9823154146731436,0.9797380829953413,0.9769767191300384,0.9740298520961836,0.9708960463145245,0.9675739027998437,0.9640620603622156,0.9603591968168743,0.9564640302022677,0.952375320005859,0.9480918683972195,0.9436125214679398,0.9389361704778744,0.9340617531072125,0.9289882547138593,0.9237147095955848,0.918240202256395,0.9125638686765497,0.9066848975856426,0.9006025317381424,0.8943160691907722,0.8878248645810932,0.8811283304066365,0.8742259383039162,0.8671172203266307,0.8598017702223552,0.8522792447069962,0.8445493647362771,0.8366119167734918,0.8284667540527637,0.8201137978370119,0.8115530386698244,0.8027845376204152,0.7938084275208257,0.7846249141945147,0.7752342776754665,0.7656368734169291,0.7558331334888772,0.745823567763283,0.7356087650862568,0.725189394436109,0.7145662060663656,0.7037400326327582,0.692711790303191,0.6814824798496772,0.6700531877212196,0.6584250870965953,0.6465994389159984,0.6345775928904722,0.6223609884880574,0.6099511558955605,0.5973497169548514,0.5845583860725688,0.5715789711021156,0.558413374196807,0.5450635926330304,0.5315317196022615,0.5178199449707773,0.5039305560058924,0.4898659380675453,0.47562857526404434,0.46122105107078826,0.4466460489107581,0.4319063526955844,0.4170048473259796,0.40194451915032653,0.3867284563802121,0.3713598494616913,0.35584199140106526,0.3401782780439566,0.32437220830646857,0.308427384357217,0.2923475117490131,0.2761363994990029,0.2597979601160504,0.24333620957416563,0.22675526723079276,0.21005935568876363,0.19325280060074917,0.17634003041503366,0.15932557606146217,0.14221407057641186,0.1250102486656561,0.1077189462040043,0.09034509967061582,0.07289374551889945,0.05537001947992976,0.03777915579833323,0.02012648639961402,0.0024174399879105207,-0.015342458926803026,-0.033147591073025943,-0.050992243534492915,-0.06887061094029232,-0.08677679672921823,-0.1047048144892178,-0.12264858937273494,-0.14060195958875457,-0.15855867797228787,-0.17651241363201803,-0.19445675367678997,-0.21238520502157912,-0.23029119627354416,-0.24816807969872623,-0.26600913326989983,-0.2838075627960633,-0.3015565041339804,-0.3192490254821618,-0.33687812975760906,-0.35443675705560196,-0.3719177871927555,-0.38931404233352007,-0.40661828970023844,-0.4238232443668246,-0.44092157213606137,-0.4579058925004641,-0.4747687816865858,-0.4915027757825871,-0.5081003739488186,-0.5245540417111071,-0.5408562143363669,-0.5569993002900825,-0.5729756847751486,-0.5887777333514764,-0.6043977956356992,-0.6198282090802472,-0.6350613028309691,-0.6500894016624172,-0.6649048299898256,-0.6794999159567308,-0.6938669955971114,-0.7079984170708326,-0.7218865449711,-0.7355237647025558,-0.7489024869285384,-0.7620151520859748,-0.7748542349662545,-0.7874122493603737,-0.7996817527665276,-0.81165535115826,-0.8233257038111638,-0.8346855281860648,-0.8457276048665038,-0.8564447825482516,-0.8668299830785064,-0.8768762065423066,-0.8865765363936267,-0.8959241446285138,-0.9049122969975255,-0.913534358254653,-0.9217837974397994,-0.9296541931918086,-0.9371392390889268,-0.9442327490135042,-0.9509286625376366,-0.957221050326366,-0.9631041195549528,-0.9685722193366593,-0.9736198461573741,-0.9782416493133337,-0.9824324363480958,-0.9861871784848399,-0.9895010160499773,-0.9923692638839733,-0.9947874167351949,-0.9967511546325168,-0.9982563482323392,-0.9992990641355868,-0.9998755701701868,-0.9999823406344432,-0.9996160614966537,-0.9987736355462444,-0.9974521874916276,-0.9956490689999207,-0.9933618636736047,-0.9905883919591334,-0.9873267159824515,-0.9835751443063219,-0.9793322366043107,-0.9745968082462305,-0.9693679347897962,-0.9636449563732054,-0.9574274820033192,-0.950715393734082,-0.9435088507297889,-0.9358082932077874,-0.9276144462551685,-0.9189283235139953,-0.9097512307295942,-0.9000847691564329,-0.889930838816098,-0.8792916416018925,-0.8681696842245725,-0.8565677809937624,-0.8444890564295917,-0.8319369476991287,-0.818915206872212,-0.8054279029913006,-0.7914794239500262,-0.77707447817515,-0.7622180961066867,-0.7469156314710282,-0.7311727623419326,-0.7149954919843384,-0.6983901494760303,-0.6813633901022553,-0.6639221955184923,-0.6460738736766592,-0.6278260585101523,-0.6091867093732105,-0.5901641102302237,-0.570766868590717,-0.5510039141858789,-0.5308844973826263,-0.5104181873313557,-0.4896148698436736,-0.4684847449965453,-0.44703832445949454,-0.42528642854162496,-0.4032401829554275,-0.3809110152945399,-0.35831065122278183,-0.3354511103720225,-0.31234470194663033,-0.2890040200324642,-0.26544193860860177,-0.24167160626021664,-0.21770644059126223,-0.1935601223358489,-0.1692465891674678,-0.14478002920545804,-0.12017487421838717,-0.09544579252427011,-0.07060768158784614,-0.04567566031540739,-0.02066506104794854,0.004408578746264111,0.029529525078342618,0.05468185634296162,0.07984947251806268,0.10501610465778535,0.1301653246759737,0.15528055541729371,0.18034508101267144,0.20534205751540702,0.23025452381399372,0.2550654128173139,0.27975756290754844,0.30431372965576803,0.3287165977948288,0.35294879344382996,0.37699289657804047,0.40083145373782214,0.42444699096972005,0.44782202699253393,0.47093908658078676,0.4937807141576711,0.5163294875891691,0.5385680321706575,0.5604790347969735,0.5820452583065191,0.6032495559896247,0.6240748862510365,0.6445043274160107,0.6645210926691512,0.6841085451147599,0.7032502129471246,0.7219298047188077,0.7401312246946599,0.7578385882789387,0.7750362375025821,0.7917087565573495,0.8078409873632209,0.8234180451551413,0.8384253340748665,0.8528485627533867,0.8666737598691069,0.879887289666667,0.8924758674210372,0.9044265748312398,0.9157268753278044,0.9263646292778318,0.9363281090712992,0.9456060140720346,0.9541874854165805,0.9620621206439841,0.9692199881393684,0.9756516413739867,0.9813481329243138,0.9863010282526024,0.9905024192312184,0.9939449373929751,0.9966217668896082,0.9985266571404768,0.9996539351535293,0.9999985175005575,0.9995559219287544,0.9983222785906147,0.9962943408742481,0.9934694958162419,0.989845774079286,0.9854218594768754,0.9801970980275336,0.9741715065211424,0.9673457805801398,0.9597213021985382,0.9513001467419289,0.9420850893918911,0.9320796110184764,0.9212879034647413,0.9097148742276089,0.8973661505196788,0.8842480826969851,0.8703677470380707,0.8557329478601794,0.8403522189588075,0.8242348243573181,0.807390758353815,0.7898307448530096,0.7715662359713282,0.7526094099041147,0.7329731680443526,0.7126711313429591,0.6917176359013695,0.6701277277877771,0.6479171570691047,0.6251023710515159,0.6017005067229961,0.5777293823923355,0.5532074885196135,0.5281539777341144,0.5025886540364537,0.47653196118253827,0.4500049702478754,0.4230293663716671,0.39562743468102596,0.3678220453966052,0.3396366381219197,0.31109520531957413,0.2822222749786658,0.2530428924786046,0.22358260165563965,0.19386742507944732,0.16392384354816283,0.1337787748113263,0.10345955153131678,0.07299389849489865,0.042409909087660576,0.011736021045196138,-0.018999008503989438,-0.04976612868772185,-0.08053602121432912,-0.11127912735337493,-0.14196567555343936,-0.17256570967633308,-0.20304911782598542,-0.23338566174910247,-0.2635450067836148,-0.2934967523297656,-0.323210462817628,-0.35265569914372824,-0.3818020505483258,-0.4106191669039431,-0.43907679138450073,-0.4671447934835756,-0.49479320234909413,-0.5219922404009192,-0.5487123571966962,-0.5749242635104477,-0.600598965587421,-0.6257077995378267,-0.6502224658312228,-0.674115063852437,-0.6973581264791486,-0.7199246546404513,-0.7417881518149895,-0.7629226584265563,-0.7833027860944166,-0.8029037516949519,-0.8217014111907063,-0.8396722931823516,-0.8567936321386378,-0.8730434012589641,-0.8884003449228177,-0.9028440106800345,-0.9163547807355394,-0.9289139028820397,-0.9405035208339813,-0.9511067039159835,-0.9607074760589484,-0.9692908440570639,-0.9768428250390169,-0.9833504731068974,-0.9888019050965008,-0.9931863254130253,-0.9964940498965358,-0.9987165286719885,-0.9998463679391233,-0.9998773506581016,-0.9988044560874187,-0.9966238781313409,-0.9933330424549104,-0.9889306223254369,-0.9834165531403294,-0.9767920456021499,-0.9690595975028615,-0.9602230040804086,-0.95028736691202,-0.9392591013099372,-0.9271459421866727,-0.9139569483583648,-0.8997025052563419,-0.8843943260186244,-0.8680454509347878,-0.8506702452193543,-0.8322843950907355,-0.8129049021346268,-0.7925500759327344,-0.7712395249397556,-0.7489941455936244,-0.7258361096461995,-0.7017888497038146,-0.6768770429693662,-0.6511265931800039,-0.6245646107368182,-0.5972193910254695,-0.5691203909290956,-0.540298203537474,-0.510784531058977,-0.4806121559444658,-0.4498149102350046,-0.4184276431479472,-0.3864861869187009,-0.35402732091824085,-0.32108873406928223,-0.28770898558675445,-0.2539274640711807,-0.21978434498628124,-0.1853205465550873,-0.15057768411166525,-0.11559802294841823,-0.08042442970181232,-0.045100322322207995,-0.009669618676349065,0.025823316166160463,0.06133372390820755,0.09681650820543482,0.13222629099174485,0.16751746988764774,0.20264427662643708,0.23756083643051182,0.27222122826764483,0.3065795459144636,0.3405899597519876,0.374206779215675,0.40738451582013324,0.440077946676462,0.47224217841800475,0.5038327114482611,0.5348055044228031,0.5651170388750788,0.5947243838943692,0.6235852607624053,0.6516581074537181,0.6789021429033264,0.7052774309441298,0.7307449438152047,0.7552666251411776,0.7788054522819915,0.801325497951633,0.822791991003799,0.8431713762820401,0.8624313734316641,0.8805410345705119,0.8974708007158023,0.9131925568644149,0.9276796856243718,0.9409071192958203,0.952851390300527,0.9634906798598096,0.9728048648218883,0.9807755625409112,0.9873861737113385,0.9926219230629937,0.9964698978239033,0.998919083860038,0.9999603994032478,0.9995867262810543,0.9977929385645171,0.9945759285531289,0.989934630018621,0.9838700386326725,0.9763852295068041,0.9674853717762113,0.9571777401629472,0.9454717234576852,0.9323788298632919,0.9179126891476198,0.9020890515572454,0.8849257834483936,0.8664428595959286,0.8466623521461034,0.8256084161837074,0.8033072718893497,0.7797871832678501,0.7550784334340314,0.7292132964477536,0.7022260056955395,0.6741527188219197,0.645031479219365,0.614902174091609,0.5838064891111042,0.5517878596974236,0.5188914189495029,0.48516394227083864,0.4506537887328801,0.41541083922818434,0.37948643147111083,0.34293329191013044,0.3058054646221215,0.2681582372652576,0.23004806417338927,0.19153248668099843,0.15267005077399293,0.11352022216774074,0.0741432989197451,0.0346003216903784,-0.0050470182290850325,-0.04473647299610501,-0.08440533427352653,-0.12399053112706673,-0.16342872962209254,-0.2026564339729834,-0.2416100890932747,-0.28022618438995844,-0.3184413586407133,-0.3561925057882702,-0.3934168814820492,-0.43005221019312545,-0.46603679272479787,-0.5013096139377055,-0.5358104505050812,-0.5694799785108451,-0.6022598807006341,-0.6340929531934881,-0.6649232114599227,-0.6946959953703615,-0.7233580731166476,-0.7508577438081921,-0.7771449385437627,-0.8021713197595355,-0.8258903786541253,-0.848257530491699,-0.8692302075851333,-0.8887679497623365,-0.9068324921204604,-0.9233878498747016,-0.9384004001107897,-0.9518389602530206,-0.9636748630629174,-0.9738820279871785,-0.9824370286775884,-0.9893191565099854,-0.994510479934193,-0.9979958994920672,-0.9997631983464386,-0.9998030881697476,-0.998109250247627,-0.9946783716594826,-0.9895101764053384,-0.9826074513557949,-0.9739760669098971,-0.9636249922540304,-0.9515663051236147,-0.9378151959783945,-0.9223899665114351,-0.9053120224216056,-0.8866058603892774,-0.8662990492052064,-0.8444222050131186,-0.8210089606372314,-0.7960959289770445,-0.7697226604629057,-0.7419315945773285,-0.7127680054587043,-0.6822799416157571,-0.6505181597931401,-0.6175360530405457,-0.5833895730498889,-0.5481371468374056,-0.511839587859685,-0.47456000166510914,-0.43636368619437643,-0.3973180268561444,-0.35749238651605647,-0.31695799054957285,-0.2757878071211431,-0.2340564228641344,-0.19183991414775864,-0.14921571412882775,-0.10626247579753136,-0.06305993123763212,-0.01968874733227984,0.023769621842720967,0.06723308568611965,0.11061907053692305,0.15384467566711024,0.1968268315207043,0.2394824599099361,0.28172863587096075,0.32348275087387096,0.3646626770745477,0.40518693228915476,0.44497484536603193,0.48394672162415403,0.5220240080224168,0.5591294577197332,0.595187293682212,0.6301233709908459,0.6638653375007022,0.6963427925011583,0.727487443025829,0.7572332574606851,0.7855166160996166,0.8122764582979711,0.837454425876895,0.8609950024342318,0.8828456482214828,0.902956930250975,0.9212826473026653,0.9377799495062651,0.9524094521813223,0.9651353436257107,0.9759254865515586,0.9847515128770934,0.9915889115930222,0.9964171094330938,0.9992195440902194,0.9999837297320577,0.9987013145832279,0.995368130355319,0.9899842333205667,0.9825539368404688,0.9730858351766857,0.9615928184282756,0.9480920784566602,0.9326051056776229,0.9151576766181304,0.8957798321547636,0.8745058463700697,0.8513741859830418,0.8264274603303793,0.7997123618958635,0.7712795974063087,0.7411838095338982,0.7094834892663916,0.6762408790284309,0.6415218666592701,0.6053958703742351,0.5679357148594797,0.5292174986716244,0.4893204531361368,0.44832679296014305,0.40632155879738235,0.36339245202452336,0.31962966200957693,0.27512568617405814,0.22997514317140616,0.18427457952430276,0.13812227008338268,0.09161801268901765,0.04486291743657633,-0.0020408090365956143,-0.048990083806776046,-0.09588117200997057,-0.14260991481068785,-0.18907196051066322,-0.23516299830103077,-0.28077899414831603,-0.32581642829283164,-0.37017253382710513,-0.41374553581225154,-0.45643489038151513,-0.49814152327291833,-0.5387680672266016,-0.5782190976776502,-0.6164013661715274,-0.6532240309269124,-0.6885988839699256,-0.7224405742640486,-0.754666826262034,-0.7851986533093412,-0.8139605653334228,-0.8408807702593405,-0.8658913685999681,-0.8889285406780777,-0.9099327259483441,-0.9288487938993285,-0.9456262060291679,-0.96021916840365,-0.9725867743219407,-0.9826931366330766,-0.990507509265734,-0.9960043975544706,-0.9991636569677477,-0.9999705798664242,-0.9984159699461237,-0.9944962040428076,-0.9882132810080315,-0.9795748573886542,-0.9685942696751523,-0.9552905429131362,-0.9396883855040657,-0.9218181700534852,-0.9017159001583012,-0.879423163058523,-0.8549870681135988,-0.828460171098704,-0.799900384352176,-0.7693708728415434,-0.736939936252273,-0.7026808772402008,-0.6666718560258104,-0.6289957315456466,-0.5897398894133612,-0.5489960569800302,-0.5068601058201561,-0.46343184200648957,-0.41881478457287474,-0.3731159326000496,-0.3264455213943562,-0.27891676826372797,-0.23064560842871207,-0.18175042163905214,-0.13235175009777303],\"showlegend\":true,\"name\":\"y1\",\"type\":\"scatter\",\"xaxis\":\"x\",\"line\":{\"width\":1,\"dash\":\"solid\",\"color\":\"rgba(0, 154, 250, 1.000)\",\"shape\":\"linear\"},\"x\":[0.0,0.005005005005005005,0.01001001001001001,0.015015015015015015,0.02002002002002002,0.025025025025025027,0.03003003003003003,0.035035035035035036,0.04004004004004004,0.04504504504504504,0.05005005005005005,0.055055055055055056,0.06006006006006006,0.06506506506506507,0.07007007007007007,0.07507507507507508,0.08008008008008008,0.08508508508508508,0.09009009009009009,0.09509509509509509,0.1001001001001001,0.10510510510510511,0.11011011011011011,0.11511511511511512,0.12012012012012012,0.12512512512512514,0.13013013013013014,0.13513513513513514,0.14014014014014015,0.14514514514514515,0.15015015015015015,0.15515515515515516,0.16016016016016016,0.16516516516516516,0.17017017017017017,0.17517517517517517,0.18018018018018017,0.18518518518518517,0.19019019019019018,0.19519519519519518,0.2002002002002002,0.20520520520520522,0.21021021021021022,0.21521521521521522,0.22022022022022023,0.22522522522522523,0.23023023023023023,0.23523523523523523,0.24024024024024024,0.24524524524524524,0.2502502502502503,0.2552552552552553,0.2602602602602603,0.2652652652652653,0.2702702702702703,0.2752752752752753,0.2802802802802803,0.2852852852852853,0.2902902902902903,0.2952952952952953,0.3003003003003003,0.3053053053053053,0.3103103103103103,0.3153153153153153,0.3203203203203203,0.3253253253253253,0.3303303303303303,0.3353353353353353,0.34034034034034033,0.34534534534534533,0.35035035035035034,0.35535535535535534,0.36036036036036034,0.36536536536536535,0.37037037037037035,0.37537537537537535,0.38038038038038036,0.38538538538538536,0.39039039039039036,0.3953953953953954,0.4004004004004004,0.40540540540540543,0.41041041041041043,0.41541541541541543,0.42042042042042044,0.42542542542542544,0.43043043043043044,0.43543543543543545,0.44044044044044045,0.44544544544544545,0.45045045045045046,0.45545545545545546,0.46046046046046046,0.46546546546546547,0.47047047047047047,0.4754754754754755,0.4804804804804805,0.4854854854854855,0.4904904904904905,0.4954954954954955,0.5005005005005005,0.5055055055055055,0.5105105105105106,0.5155155155155156,0.5205205205205206,0.5255255255255256,0.5305305305305306,0.5355355355355356,0.5405405405405406,0.5455455455455456,0.5505505505505506,0.5555555555555556,0.5605605605605606,0.5655655655655656,0.5705705705705706,0.5755755755755756,0.5805805805805806,0.5855855855855856,0.5905905905905906,0.5955955955955956,0.6006006006006006,0.6056056056056056,0.6106106106106106,0.6156156156156156,0.6206206206206206,0.6256256256256256,0.6306306306306306,0.6356356356356356,0.6406406406406406,0.6456456456456456,0.6506506506506506,0.6556556556556556,0.6606606606606606,0.6656656656656657,0.6706706706706707,0.6756756756756757,0.6806806806806807,0.6856856856856857,0.6906906906906907,0.6956956956956957,0.7007007007007007,0.7057057057057057,0.7107107107107107,0.7157157157157157,0.7207207207207207,0.7257257257257257,0.7307307307307307,0.7357357357357357,0.7407407407407407,0.7457457457457457,0.7507507507507507,0.7557557557557557,0.7607607607607607,0.7657657657657657,0.7707707707707707,0.7757757757757757,0.7807807807807807,0.7857857857857858,0.7907907907907908,0.7957957957957958,0.8008008008008008,0.8058058058058059,0.8108108108108109,0.8158158158158159,0.8208208208208209,0.8258258258258259,0.8308308308308309,0.8358358358358359,0.8408408408408409,0.8458458458458459,0.8508508508508509,0.8558558558558559,0.8608608608608609,0.8658658658658659,0.8708708708708709,0.8758758758758759,0.8808808808808809,0.8858858858858859,0.8908908908908909,0.8958958958958959,0.9009009009009009,0.9059059059059059,0.9109109109109109,0.9159159159159159,0.9209209209209209,0.9259259259259259,0.9309309309309309,0.9359359359359359,0.9409409409409409,0.9459459459459459,0.950950950950951,0.955955955955956,0.960960960960961,0.965965965965966,0.970970970970971,0.975975975975976,0.980980980980981,0.985985985985986,0.990990990990991,0.995995995995996,1.001001001001001,1.006006006006006,1.011011011011011,1.016016016016016,1.021021021021021,1.026026026026026,1.031031031031031,1.0360360360360361,1.0410410410410411,1.0460460460460461,1.0510510510510511,1.0560560560560561,1.0610610610610611,1.0660660660660661,1.0710710710710711,1.0760760760760761,1.0810810810810811,1.0860860860860861,1.0910910910910911,1.0960960960960962,1.1011011011011012,1.1061061061061062,1.1111111111111112,1.1161161161161162,1.1211211211211212,1.1261261261261262,1.1311311311311312,1.1361361361361362,1.1411411411411412,1.1461461461461462,1.1511511511511512,1.1561561561561562,1.1611611611611612,1.1661661661661662,1.1711711711711712,1.1761761761761762,1.1811811811811812,1.1861861861861862,1.1911911911911912,1.1961961961961962,1.2012012012012012,1.2062062062062062,1.2112112112112112,1.2162162162162162,1.2212212212212212,1.2262262262262262,1.2312312312312312,1.2362362362362362,1.2412412412412412,1.2462462462462462,1.2512512512512513,1.2562562562562563,1.2612612612612613,1.2662662662662663,1.2712712712712713,1.2762762762762763,1.2812812812812813,1.2862862862862863,1.2912912912912913,1.2962962962962963,1.3013013013013013,1.3063063063063063,1.3113113113113113,1.3163163163163163,1.3213213213213213,1.3263263263263263,1.3313313313313313,1.3363363363363363,1.3413413413413413,1.3463463463463463,1.3513513513513513,1.3563563563563563,1.3613613613613613,1.3663663663663663,1.3713713713713713,1.3763763763763763,1.3813813813813813,1.3863863863863863,1.3913913913913913,1.3963963963963963,1.4014014014014013,1.4064064064064064,1.4114114114114114,1.4164164164164164,1.4214214214214214,1.4264264264264264,1.4314314314314314,1.4364364364364364,1.4414414414414414,1.4464464464464464,1.4514514514514514,1.4564564564564564,1.4614614614614614,1.4664664664664664,1.4714714714714714,1.4764764764764764,1.4814814814814814,1.4864864864864864,1.4914914914914914,1.4964964964964964,1.5015015015015014,1.5065065065065064,1.5115115115115114,1.5165165165165164,1.5215215215215214,1.5265265265265264,1.5315315315315314,1.5365365365365364,1.5415415415415414,1.5465465465465464,1.5515515515515514,1.5565565565565564,1.5615615615615615,1.5665665665665667,1.5715715715715717,1.5765765765765767,1.5815815815815817,1.5865865865865867,1.5915915915915917,1.5965965965965967,1.6016016016016017,1.6066066066066067,1.6116116116116117,1.6166166166166167,1.6216216216216217,1.6266266266266267,1.6316316316316317,1.6366366366366367,1.6416416416416417,1.6466466466466467,1.6516516516516517,1.6566566566566567,1.6616616616616617,1.6666666666666667,1.6716716716716717,1.6766766766766767,1.6816816816816818,1.6866866866866868,1.6916916916916918,1.6966966966966968,1.7017017017017018,1.7067067067067068,1.7117117117117118,1.7167167167167168,1.7217217217217218,1.7267267267267268,1.7317317317317318,1.7367367367367368,1.7417417417417418,1.7467467467467468,1.7517517517517518,1.7567567567567568,1.7617617617617618,1.7667667667667668,1.7717717717717718,1.7767767767767768,1.7817817817817818,1.7867867867867868,1.7917917917917918,1.7967967967967968,1.8018018018018018,1.8068068068068068,1.8118118118118118,1.8168168168168168,1.8218218218218218,1.8268268268268268,1.8318318318318318,1.8368368368368369,1.8418418418418419,1.8468468468468469,1.8518518518518519,1.8568568568568569,1.8618618618618619,1.8668668668668669,1.8718718718718719,1.8768768768768769,1.8818818818818819,1.8868868868868869,1.8918918918918919,1.896896896896897,1.901901901901902,1.906906906906907,1.911911911911912,1.916916916916917,1.921921921921922,1.926926926926927,1.931931931931932,1.936936936936937,1.941941941941942,1.946946946946947,1.951951951951952,1.956956956956957,1.961961961961962,1.966966966966967,1.971971971971972,1.976976976976977,1.981981981981982,1.986986986986987,1.991991991991992,1.996996996996997,2.002002002002002,2.007007007007007,2.012012012012012,2.017017017017017,2.022022022022022,2.027027027027027,2.032032032032032,2.037037037037037,2.042042042042042,2.047047047047047,2.052052052052052,2.057057057057057,2.062062062062062,2.067067067067067,2.0720720720720722,2.0770770770770772,2.0820820820820822,2.0870870870870872,2.0920920920920922,2.0970970970970972,2.1021021021021022,2.1071071071071072,2.1121121121121122,2.1171171171171173,2.1221221221221223,2.1271271271271273,2.1321321321321323,2.1371371371371373,2.1421421421421423,2.1471471471471473,2.1521521521521523,2.1571571571571573,2.1621621621621623,2.1671671671671673,2.1721721721721723,2.1771771771771773,2.1821821821821823,2.1871871871871873,2.1921921921921923,2.1971971971971973,2.2022022022022023,2.2072072072072073,2.2122122122122123,2.2172172172172173,2.2222222222222223,2.2272272272272273,2.2322322322322323,2.2372372372372373,2.2422422422422423,2.2472472472472473,2.2522522522522523,2.2572572572572573,2.2622622622622623,2.2672672672672673,2.2722722722722724,2.2772772772772774,2.2822822822822824,2.2872872872872874,2.2922922922922924,2.2972972972972974,2.3023023023023024,2.3073073073073074,2.3123123123123124,2.3173173173173174,2.3223223223223224,2.3273273273273274,2.3323323323323324,2.3373373373373374,2.3423423423423424,2.3473473473473474,2.3523523523523524,2.3573573573573574,2.3623623623623624,2.3673673673673674,2.3723723723723724,2.3773773773773774,2.3823823823823824,2.3873873873873874,2.3923923923923924,2.3973973973973974,2.4024024024024024,2.4074074074074074,2.4124124124124124,2.4174174174174174,2.4224224224224224,2.4274274274274275,2.4324324324324325,2.4374374374374375,2.4424424424424425,2.4474474474474475,2.4524524524524525,2.4574574574574575,2.4624624624624625,2.4674674674674675,2.4724724724724725,2.4774774774774775,2.4824824824824825,2.4874874874874875,2.4924924924924925,2.4974974974974975,2.5025025025025025,2.5075075075075075,2.5125125125125125,2.5175175175175175,2.5225225225225225,2.5275275275275275,2.5325325325325325,2.5375375375375375,2.5425425425425425,2.5475475475475475,2.5525525525525525,2.5575575575575575,2.5625625625625625,2.5675675675675675,2.5725725725725725,2.5775775775775776,2.5825825825825826,2.5875875875875876,2.5925925925925926,2.5975975975975976,2.6026026026026026,2.6076076076076076,2.6126126126126126,2.6176176176176176,2.6226226226226226,2.6276276276276276,2.6326326326326326,2.6376376376376376,2.6426426426426426,2.6476476476476476,2.6526526526526526,2.6576576576576576,2.6626626626626626,2.6676676676676676,2.6726726726726726,2.6776776776776776,2.6826826826826826,2.6876876876876876,2.6926926926926926,2.6976976976976976,2.7027027027027026,2.7077077077077076,2.7127127127127126,2.7177177177177176,2.7227227227227226,2.7277277277277276,2.7327327327327327,2.7377377377377377,2.7427427427427427,2.7477477477477477,2.7527527527527527,2.7577577577577577,2.7627627627627627,2.7677677677677677,2.7727727727727727,2.7777777777777777,2.7827827827827827,2.7877877877877877,2.7927927927927927,2.7977977977977977,2.8028028028028027,2.8078078078078077,2.8128128128128127,2.8178178178178177,2.8228228228228227,2.8278278278278277,2.8328328328328327,2.8378378378378377,2.8428428428428427,2.8478478478478477,2.8528528528528527,2.8578578578578577,2.8628628628628627,2.8678678678678677,2.8728728728728727,2.8778778778778777,2.8828828828828827,2.8878878878878878,2.8928928928928928,2.8978978978978978,2.9029029029029028,2.9079079079079078,2.9129129129129128,2.9179179179179178,2.9229229229229228,2.9279279279279278,2.932932932932933,2.937937937937938,2.942942942942943,2.947947947947948,2.952952952952953,2.957957957957958,2.962962962962963,2.967967967967968,2.972972972972973,2.977977977977978,2.982982982982983,2.987987987987988,2.992992992992993,2.997997997997998,3.003003003003003,3.008008008008008,3.013013013013013,3.018018018018018,3.023023023023023,3.028028028028028,3.033033033033033,3.038038038038038,3.043043043043043,3.048048048048048,3.053053053053053,3.058058058058058,3.063063063063063,3.068068068068068,3.073073073073073,3.078078078078078,3.083083083083083,3.088088088088088,3.093093093093093,3.098098098098098,3.103103103103103,3.108108108108108,3.113113113113113,3.118118118118118,3.123123123123123,3.1281281281281283,3.1331331331331334,3.1381381381381384,3.1431431431431434,3.1481481481481484,3.1531531531531534,3.1581581581581584,3.1631631631631634,3.1681681681681684,3.1731731731731734,3.1781781781781784,3.1831831831831834,3.1881881881881884,3.1931931931931934,3.1981981981981984,3.2032032032032034,3.2082082082082084,3.2132132132132134,3.2182182182182184,3.2232232232232234,3.2282282282282284,3.2332332332332334,3.2382382382382384,3.2432432432432434,3.2482482482482484,3.2532532532532534,3.2582582582582584,3.2632632632632634,3.2682682682682684,3.2732732732732734,3.2782782782782784,3.2832832832832834,3.2882882882882885,3.2932932932932935,3.2982982982982985,3.3033033033033035,3.3083083083083085,3.3133133133133135,3.3183183183183185,3.3233233233233235,3.3283283283283285,3.3333333333333335,3.3383383383383385,3.3433433433433435,3.3483483483483485,3.3533533533533535,3.3583583583583585,3.3633633633633635,3.3683683683683685,3.3733733733733735,3.3783783783783785,3.3833833833833835,3.3883883883883885,3.3933933933933935,3.3983983983983985,3.4034034034034035,3.4084084084084085,3.4134134134134135,3.4184184184184185,3.4234234234234235,3.4284284284284285,3.4334334334334335,3.4384384384384385,3.4434434434434436,3.4484484484484486,3.4534534534534536,3.4584584584584586,3.4634634634634636,3.4684684684684686,3.4734734734734736,3.4784784784784786,3.4834834834834836,3.4884884884884886,3.4934934934934936,3.4984984984984986,3.5035035035035036,3.5085085085085086,3.5135135135135136,3.5185185185185186,3.5235235235235236,3.5285285285285286,3.5335335335335336,3.5385385385385386,3.5435435435435436,3.5485485485485486,3.5535535535535536,3.5585585585585586,3.5635635635635636,3.5685685685685686,3.5735735735735736,3.5785785785785786,3.5835835835835836,3.5885885885885886,3.5935935935935936,3.5985985985985987,3.6036036036036037,3.6086086086086087,3.6136136136136137,3.6186186186186187,3.6236236236236237,3.6286286286286287,3.6336336336336337,3.6386386386386387,3.6436436436436437,3.6486486486486487,3.6536536536536537,3.6586586586586587,3.6636636636636637,3.6686686686686687,3.6736736736736737,3.6786786786786787,3.6836836836836837,3.6886886886886887,3.6936936936936937,3.6986986986986987,3.7037037037037037,3.7087087087087087,3.7137137137137137,3.7187187187187187,3.7237237237237237,3.7287287287287287,3.7337337337337337,3.7387387387387387,3.7437437437437437,3.7487487487487487,3.7537537537537538,3.7587587587587588,3.7637637637637638,3.7687687687687688,3.7737737737737738,3.7787787787787788,3.7837837837837838,3.7887887887887888,3.793793793793794,3.798798798798799,3.803803803803804,3.808808808808809,3.813813813813814,3.818818818818819,3.823823823823824,3.828828828828829,3.833833833833834,3.838838838838839,3.843843843843844,3.848848848848849,3.853853853853854,3.858858858858859,3.863863863863864,3.868868868868869,3.873873873873874,3.878878878878879,3.883883883883884,3.888888888888889,3.893893893893894,3.898898898898899,3.903903903903904,3.908908908908909,3.913913913913914,3.918918918918919,3.923923923923924,3.928928928928929,3.933933933933934,3.938938938938939,3.943943943943944,3.948948948948949,3.953953953953954,3.958958958958959,3.963963963963964,3.968968968968969,3.973973973973974,3.978978978978979,3.983983983983984,3.988988988988989,3.993993993993994,3.998998998998999,4.004004004004004,4.009009009009009,4.014014014014014,4.019019019019019,4.024024024024024,4.029029029029029,4.034034034034034,4.039039039039039,4.044044044044044,4.049049049049049,4.054054054054054,4.059059059059059,4.064064064064064,4.069069069069069,4.074074074074074,4.079079079079079,4.084084084084084,4.089089089089089,4.094094094094094,4.099099099099099,4.104104104104104,4.109109109109109,4.114114114114114,4.119119119119119,4.124124124124124,4.129129129129129,4.134134134134134,4.1391391391391394,4.1441441441441444,4.1491491491491495,4.1541541541541545,4.1591591591591595,4.1641641641641645,4.1691691691691695,4.1741741741741745,4.1791791791791795,4.1841841841841845,4.1891891891891895,4.1941941941941945,4.1991991991991995,4.2042042042042045,4.2092092092092095,4.2142142142142145,4.2192192192192195,4.2242242242242245,4.2292292292292295,4.2342342342342345,4.2392392392392395,4.2442442442442445,4.2492492492492495,4.2542542542542545,4.2592592592592595,4.2642642642642645,4.2692692692692695,4.2742742742742745,4.2792792792792795,4.2842842842842845,4.2892892892892895,4.2942942942942945,4.2992992992992995,4.3043043043043046,4.3093093093093096,4.314314314314315,4.31931931931932,4.324324324324325,4.32932932932933,4.334334334334335,4.33933933933934,4.344344344344345,4.34934934934935,4.354354354354355,4.35935935935936,4.364364364364365,4.36936936936937,4.374374374374375,4.37937937937938,4.384384384384385,4.38938938938939,4.394394394394395,4.3993993993994,4.404404404404405,4.40940940940941,4.414414414414415,4.41941941941942,4.424424424424425,4.42942942942943,4.434434434434435,4.43943943943944,4.444444444444445,4.44944944944945,4.454454454454455,4.45945945945946,4.464464464464465,4.46946946946947,4.474474474474475,4.47947947947948,4.484484484484485,4.48948948948949,4.494494494494495,4.4994994994995,4.504504504504505,4.50950950950951,4.514514514514515,4.51951951951952,4.524524524524525,4.52952952952953,4.534534534534535,4.53953953953954,4.544544544544545,4.54954954954955,4.554554554554555,4.55955955955956,4.564564564564565,4.56956956956957,4.574574574574575,4.57957957957958,4.584584584584585,4.58958958958959,4.594594594594595,4.5995995995996,4.604604604604605,4.60960960960961,4.614614614614615,4.61961961961962,4.624624624624625,4.62962962962963,4.634634634634635,4.63963963963964,4.644644644644645,4.64964964964965,4.654654654654655,4.65965965965966,4.664664664664665,4.66966966966967,4.674674674674675,4.67967967967968,4.684684684684685,4.68968968968969,4.694694694694695,4.6996996996997,4.704704704704705,4.70970970970971,4.714714714714715,4.71971971971972,4.724724724724725,4.72972972972973,4.734734734734735,4.73973973973974,4.744744744744745,4.74974974974975,4.754754754754755,4.75975975975976,4.764764764764765,4.76976976976977,4.774774774774775,4.77977977977978,4.784784784784785,4.78978978978979,4.794794794794795,4.7997997997998,4.804804804804805,4.80980980980981,4.814814814814815,4.81981981981982,4.824824824824825,4.82982982982983,4.834834834834835,4.83983983983984,4.844844844844845,4.84984984984985,4.854854854854855,4.85985985985986,4.864864864864865,4.86986986986987,4.874874874874875,4.87987987987988,4.884884884884885,4.88988988988989,4.894894894894895,4.8998998998999,4.904904904904905,4.90990990990991,4.914914914914915,4.91991991991992,4.924924924924925,4.92992992992993,4.934934934934935,4.93993993993994,4.944944944944945,4.94994994994995,4.954954954954955,4.95995995995996,4.964964964964965,4.96996996996997,4.974974974974975,4.97997997997998,4.984984984984985,4.98998998998999,4.994994994994995,5.0],\"mode\":\"lines\"}],\n",
       "               {\"yaxis\":{\"type\":\"-\",\"titlefont\":{\"size\":15,\"color\":\"rgba(0, 0, 0, 1.000)\",\"family\":\"sans-serif\"},\"title\":\"\",\"tickfont\":{\"size\":11,\"color\":\"rgba(0, 0, 0, 1.000)\",\"family\":\"sans-serif\"},\"ticks\":\"inside\",\"tickmode\":\"array\",\"showgrid\":true,\"tickvals\":[-0.5,0.0,0.5],\"domain\":[0.03762029746281716,0.9901574803149606],\"ticktext\":[\"-0.5\",\"0.0\",\"0.5\"],\"tickangle\":0,\"zeroline\":false,\"linecolor\":\"rgba(0, 0, 0, 1.000)\",\"tickcolor\":\"rgba(0, 0, 0, 1.000)\",\"anchor\":\"x\"},\"annotations\":[],\"width\":600,\"plot_bgcolor\":\"rgba(255, 255, 255, 1.000)\",\"showlegend\":true,\"legend\":{\"bgcolor\":\"rgba(255, 255, 255, 1.000)\",\"y\":1.0,\"font\":{\"size\":11,\"color\":\"rgba(0, 0, 0, 1.000)\",\"family\":\"sans-serif\"},\"bordercolor\":\"rgba(0, 0, 0, 1.000)\",\"x\":1.0},\"xaxis\":{\"type\":\"-\",\"titlefont\":{\"size\":15,\"color\":\"rgba(0, 0, 0, 1.000)\",\"family\":\"sans-serif\"},\"title\":\"\",\"tickfont\":{\"size\":11,\"color\":\"rgba(0, 0, 0, 1.000)\",\"family\":\"sans-serif\"},\"ticks\":\"inside\",\"tickmode\":\"array\",\"showgrid\":true,\"tickvals\":[0.0,1.0,2.0,3.0,4.0,5.0],\"domain\":[0.0658209390492855,0.9934383202099738],\"ticktext\":[\"0\",\"1\",\"2\",\"3\",\"4\",\"5\"],\"tickangle\":0,\"zeroline\":false,\"linecolor\":\"rgba(0, 0, 0, 1.000)\",\"tickcolor\":\"rgba(0, 0, 0, 1.000)\",\"anchor\":\"y\"},\"paper_bgcolor\":\"rgba(255, 255, 255, 1.000)\",\"margin\":{\"r\":0,\"l\":0,\"b\":0,\"t\":20},\"height\":400}, {showLink: false});\n",
       "\n",
       "    });\n",
       " </script>\n"
      ]
     },
     "execution_count": 48,
     "metadata": {},
     "output_type": "execute_result"
    }
   ],
   "source": [
    "plotlyjs() # plot using plotly, for interactive web-application visuals. Install with Pkg.add(\"Plotly\")\n",
    "x = linspace(0,5,1000)\n",
    "plot(x, sin(x.^2))"
   ]
  },
  {
   "cell_type": "markdown",
   "metadata": {
    "collapsed": true
   },
   "source": [
    "Of course, lots of other plot types are available"
   ]
  },
  {
   "cell_type": "markdown",
   "metadata": {},
   "source": [
    "## Advanced use of Julia and Notebooks\n",
    "The following is just a sample of what can be done with Julia and notebooks. Feel free to explore by yourself any item of interest"
   ]
  },
  {
   "cell_type": "markdown",
   "metadata": {},
   "source": [
    "### Notebooks\n",
    "Jupyter notebooks have a lot of interesting hidden functionalities!"
   ]
  },
  {
   "cell_type": "markdown",
   "metadata": {},
   "source": [
    "**Github and sharing**\n",
    "\n",
    "If you save your .ipynb notebook file in a .git project, hosted on Github, you can easily visualize and share it online (in non-interactive mode).\n",
    "\n",
    "For example, this notebook is available at https://github.com/sebmart/intro-julia-jupyter/blob/master/intro-julia-jupyter.ipynb\n",
    "\n",
    "You can also use [Gist](https://gist.github.com) and [nbviewer](http://nbviewer.jupyter.org) to quickly share a notebook (for example to your advisor) without creating a git repo."
   ]
  },
  {
   "cell_type": "markdown",
   "metadata": {},
   "source": [
    "**Converting your notebook**\n",
    "\n",
    "Jupyter notebooks are a popular format that can be converted to a variety of types of documents, depending on your needs:\n",
    "- Latex\n",
    "- HTML\n",
    "- PDF\n",
    "- Slides with Reveal.JS (used to present this notebook!)\n",
    "- Markdown ...\n",
    "\n",
    "These conversions use the [`nbconvert`](https://github.com/jupyter/nbconvert) command."
   ]
  },
  {
   "cell_type": "markdown",
   "metadata": {},
   "source": [
    "**Interactivity**\n",
    "\n",
    "Julia code can be made interactive in the notebook using the [`Interact.jl`](https://github.com/JuliaGizmos/Interact.jl) Julia Package. Users can for example change the parameters of a plot dynamically:\n",
    "![Interact.jl](src/figures/interact.png)"
   ]
  },
  {
   "cell_type": "markdown",
   "metadata": {},
   "source": [
    "**Remote computing**\n",
    "\n",
    "The Notebook system is a web interface. Notebooks can be run on another computer. This is useful if you want your code to run on a more powerful remote machine.\n",
    "\n",
    "[Port-forwarding](www.google.com/search?q=port+forwarding+ssh) through SSH is a good start for this."
   ]
  },
  {
   "cell_type": "markdown",
   "metadata": {},
   "source": [
    "**Advanced Markdown**\n",
    "\n",
    "Jupyter text cells use Markdown for formatting. Markdown is an easy to use formatting language (a little like HTML or LaTeX in more simple). You can use the text of this notebook as an example, or learn more [here](https://github.com/adam-p/markdown-here/wiki/Markdown-Cheatsheet).\n",
    "\n",
    "Jupyter uses _Github flavored Markdown_, and is particularly good at displaying math and colored code. You can even include a video!"
   ]
  },
  {
   "cell_type": "markdown",
   "metadata": {},
   "source": [
    "### Julia\n",
    "We only presented a small subset of Julia functionalities. We list here of few interesting things you may not know."
   ]
  },
  {
   "cell_type": "markdown",
   "metadata": {},
   "source": [
    "**Using the command line from Julia**\n",
    "\n",
    "You can run bash command from Julia, just start the command with a semi-colon: `;`"
   ]
  },
  {
   "cell_type": "code",
   "execution_count": 8,
   "metadata": {
    "collapsed": false
   },
   "outputs": [
    {
     "name": "stdout",
     "output_type": "stream",
     "text": [
      "LICENSE\n",
      "intro-julia-jupyter.ipynb\n",
      "intro-julia-jupyter.slides.html\n",
      "src\n"
     ]
    }
   ],
   "source": [
    ";ls"
   ]
  },
  {
   "cell_type": "markdown",
   "metadata": {},
   "source": [
    "**Unicode character** \n",
    "\n",
    "You can use unicode characters as part of variables and function names in Julia. You can use $\\LaTeX$-style autocompletes in the Julia terminal or a Jupyter/IJulia code-cell to write them. Some of them are already defined Julia constants and functions\n",
    "> Try to type `\\pi<TAB>` in a cell."
   ]
  },
  {
   "cell_type": "code",
   "execution_count": 9,
   "metadata": {
    "collapsed": false
   },
   "outputs": [
    {
     "data": {
      "text/plain": [
       "π = 3.1415926535897..."
      ]
     },
     "execution_count": 9,
     "metadata": {},
     "output_type": "execute_result"
    }
   ],
   "source": [
    "π"
   ]
  },
  {
   "cell_type": "code",
   "execution_count": 10,
   "metadata": {
    "collapsed": false
   },
   "outputs": [
    {
     "data": {
      "text/plain": [
       "true"
      ]
     },
     "execution_count": 10,
     "metadata": {},
     "output_type": "execute_result"
    }
   ],
   "source": [
    "\"carrot\" ∈ [\"potato\", \"tomato\", \"carrot\"]"
   ]
  },
  {
   "cell_type": "markdown",
   "metadata": {},
   "source": [
    "**Juno**\n",
    "\n",
    "Julia has a very nice and powerful text editor, [_Juno_](http://junolab.org), that is built on [Atom](https://atom.io). It is very similar to the Matlab interface or RStudio. Functionalities include:\n",
    "- Autocomplete\n",
    "- Integrated Plotting\n",
    "- Debugging, Manual, ...\n",
    "\n",
    "It is better suited for serious projects with several files, when an IJulia notebook is not enough."
   ]
  },
  {
   "cell_type": "markdown",
   "metadata": {},
   "source": [
    "**Advanced Julia functionalities**\n",
    "Julia is a state-of-the-art programming language, with lots of useful functionalities, including:\n",
    "- [Powerful Macros](http://docs.julialang.org/en/release-0.5/manual/metaprogramming/) (meta-programming)\n",
    "- [Code testing](http://docs.julialang.org/en/release-0.5/stdlib/test/)\n",
    "- [User-defined types](docs.julialang.org/en/release-0.5/manual/types/), that are as fast as built-in ones.\n",
    "- [Package creation](http://docs.julialang.org/en/release-0.5/manual/modules/)\n",
    "- A new [debugger](https://github.com/Keno/Gallium.jl) "
   ]
  },
  {
   "cell_type": "markdown",
   "metadata": {},
   "source": [
    "### Interesting Packages\n",
    "Using the Package eco-system, there is almost nothing you cannot achieve:"
   ]
  },
  {
   "cell_type": "markdown",
   "metadata": {},
   "source": [
    "- Advanced Plotting with [**Plots.jl**](https://juliaplots.github.io). Functionalities include 3D-plots, animated plots, stats plots, home-made plot \"recipes\" ..."
   ]
  },
  {
   "cell_type": "markdown",
   "metadata": {},
   "source": [
    "- Call any python call using [**PyCall.jl**](https://github.com/JuliaPy/PyCall.jl). (you can also interacts with several other languages)"
   ]
  },
  {
   "cell_type": "markdown",
   "metadata": {},
   "source": [
    "- Advanced graphs/networks algorithms with [**LightGraphs.jl**](https://github.com/JuliaGraphs/LightGraphs.jl)"
   ]
  },
  {
   "cell_type": "markdown",
   "metadata": {},
   "source": [
    "- Applications in [**Finance**](https://github.com/JuliaQuant), [**Biology**](https://github.com/BioJulia/Bio.jl), [**Stats and Machine Learning**](http://juliastats.github.io), [**Optimization**](http://www.juliaopt.org) (including the great [**JuMP**](https://github.com/JuliaOpt/JuMP.jl) package!)"
   ]
  },
  {
   "cell_type": "markdown",
   "metadata": {},
   "source": [
    "- Save and load your variables or environment to a file with [**JLD.jl**](https://github.com/JuliaIO/JLD.jl)"
   ]
  },
  {
   "cell_type": "markdown",
   "metadata": {},
   "source": [
    "- More data structures in [**DataStructures.jl**](https://github.com/JuliaLang/DataStructures.jl)"
   ]
  },
  {
   "cell_type": "markdown",
   "metadata": {},
   "source": [
    "- And a lot more in the **over 1200 registered packages**!"
   ]
  },
  {
   "cell_type": "markdown",
   "metadata": {},
   "source": [
    "-------\n",
    "\n",
    "Some content in this notebook was adapted from materials by [Miles Lubin](https://github.com/joehuchette/OR-software-tools-2015/blob/master/6-nonlinear-opt/IJulia%20intro.ipynb)"
   ]
  }
 ],
 "metadata": {
  "kernelspec": {
   "display_name": "Julia 0.5.0",
   "language": "julia",
   "name": "julia-0.5"
  },
  "language_info": {
   "file_extension": ".jl",
   "mimetype": "application/julia",
   "name": "julia",
   "version": "0.5.0"
  }
 },
 "nbformat": 4,
 "nbformat_minor": 0
}
