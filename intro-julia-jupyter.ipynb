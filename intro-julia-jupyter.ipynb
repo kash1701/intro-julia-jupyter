{
 "cells": [
  {
   "cell_type": "markdown",
   "metadata": {
    "slideshow": {
     "slide_type": "slide"
    }
   },
   "source": [
    "# Introduction to Julia and IJulia/Jupyter\n",
    "<table>\n",
    "<tr>\n",
    "<td> <a href=\"http://julialang.org\"><img src=\"src/figures/julia.png\" alt=\"Julia\" style=\"width: 150px;\"/></a></td>\n",
    "<td> <a href=\"http://jupyter.org\"><img src=\"src/figures/jupyter.png\" alt=\"Jupyter\" style=\"width: 150px;\"/></a></td>\n",
    "<td> <a href=\"https://github.com/JuliaLang/IJulia.jl\"><img src=\"src/figures/ijulia.png\" alt=\"IJulia\" style=\"width: 150px;\"/></a></td>\n",
    "</tr></table>"
   ]
  },
  {
   "cell_type": "markdown",
   "metadata": {
    "slideshow": {
     "slide_type": "skip"
    }
   },
   "source": [
    "This notebook is an introduction to the language **Julia**, and the use of the IJulia/Jupyter notebook in a statistics/optimization workflow. It is meant to be presented in 1 hour.\n",
    "The Julia language will be introduced quickly, the aim is to motivate the readers to learn the language by themselves using more thorough teaching material"
   ]
  },
  {
   "cell_type": "markdown",
   "metadata": {
    "slideshow": {
     "slide_type": "slide"
    }
   },
   "source": [
    "## Why using Julia?\n",
    "We introduce in this section **Julia**, a fast programming language that is particularly good at scientific computing.\n",
    "<a href=\"http://julialang.org\"><img src=\"src/figures/julia.png\" alt=\"Julia\" style=\"width: 150px;\"/></a>"
   ]
  },
  {
   "cell_type": "markdown",
   "metadata": {
    "slideshow": {
     "slide_type": "fragment"
    }
   },
   "source": [
    "Quoting the [Julia website](http://julialang.org):\n",
    "> Julia is a **high-level**, **high-performance** **dynamic** programming language for **technical computing**, with syntax that is familiar to users of other technical computing environments. It provides a sophisticated compiler, distributed parallel execution, numerical accuracy, and an extensive mathematical function library."
   ]
  },
  {
   "cell_type": "markdown",
   "metadata": {
    "slideshow": {
     "slide_type": "slide"
    }
   },
   "source": [
    "**High-level** language\n",
    "\n",
    "- The syntax is easy to use and learn. It will seem familiar to Python and Matlab users. It is possible to do complicated computations quickly.\n",
    "\n",
    "- Solving $Ax = b$ with \n",
    "$A = \\begin{pmatrix}\n",
    " 1 & 2 & 3\\\\ \n",
    " 2 & 1 & 2\\\\ \n",
    " 3 & 2 & 1\n",
    "\\end{pmatrix}$\n",
    "and $b = \\begin{pmatrix}\n",
    " 1 \\\\ \n",
    " 1 \\\\ \n",
    " 1 \n",
    "\\end{pmatrix}$\n",
    "is as simple as:"
   ]
  },
  {
   "cell_type": "code",
   "execution_count": 1,
   "metadata": {
    "collapsed": false,
    "slideshow": {
     "slide_type": "fragment"
    }
   },
   "outputs": [
    {
     "data": {
      "text/plain": [
       "3-element Array{Float64,1}:\n",
       "  0.25\n",
       " -0.0 \n",
       "  0.25"
      ]
     },
     "execution_count": 1,
     "metadata": {},
     "output_type": "execute_result"
    }
   ],
   "source": [
    "A = [1 2 3\n",
    "     2 1 2\n",
    "     3 2 1]\n",
    "\n",
    "b = [1,1,1]\n",
    "A\\b"
   ]
  },
  {
   "cell_type": "markdown",
   "metadata": {
    "slideshow": {
     "slide_type": "slide"
    }
   },
   "source": [
    "A **dynamic** language:\n",
    "\n",
    "- Julia is, like Python, Matlab or R, a dynamic language: you can interact with the language without the need to compile your code. Static or compiled languages, like C or Fortran, are more complicated to use but generally faster, and thus used when there is a need for time-efficient computations. \n",
    "\n",
    "- This is the _two-languages problem_: one generally use a high level language for research and scripting, and then translate the final result in a static language for performance."
   ]
  },
  {
   "cell_type": "markdown",
   "metadata": {
    "slideshow": {
     "slide_type": "slide"
    }
   },
   "source": [
    "A **High Performance** language:\n",
    "- Julia solves the two languages problem using **just-in-time compilation**. While running, your code will be automatically compiled and optimized to reach performances comparable to static languages like C, Fortran and Go.\n",
    "- Unlike R, Matlab or Python, simple loops are extremely efficient in Julia:"
   ]
  },
  {
   "cell_type": "code",
   "execution_count": 2,
   "metadata": {
    "collapsed": false,
    "slideshow": {
     "slide_type": "fragment"
    }
   },
   "outputs": [
    {
     "name": "stdout",
     "output_type": "stream",
     "text": [
      "First use: slow like a dynamic language\n",
      "  0.006397 seconds (1.52 k allocations: 72.265 KB)\n",
      "Second use: compiled and optimized automatically\n",
      "  0.000001 seconds (5 allocations: 176 bytes)\n"
     ]
    }
   ],
   "source": [
    "function countTo(n)\n",
    "    count = 0\n",
    "    for i = 1:n\n",
    "        count += 1\n",
    "    end\n",
    "    return count\n",
    "end\n",
    "println(\"First use: slow like a dynamic language\")\n",
    "@time countTo(10_000_000)\n",
    "println(\"Second use: compiled and optimized automatically\")\n",
    "@time countTo(10_000_000);"
   ]
  },
  {
   "cell_type": "markdown",
   "metadata": {
    "slideshow": {
     "slide_type": "slide"
    }
   },
   "source": [
    "A language for **technical computing**\n",
    "- Julia has a lot of built in functions for scientific computing.\n",
    "- A growing number of packages, mostly written in Julia itself.\n",
    "- More and more users in Finance, Biology, Optimization.\n",
    "- Can run C and Python code seemlessly (using Scikit for Machine Learning...)\n"
   ]
  },
  {
   "cell_type": "markdown",
   "metadata": {
    "slideshow": {
     "slide_type": "slide"
    }
   },
   "source": [
    "## Jupyter/IJulia notebook basics\n",
    "We present, install and use the Jupyter notebooks, a formidable tool made available to Julia by the IJulia project."
   ]
  },
  {
   "cell_type": "markdown",
   "metadata": {
    "slideshow": {
     "slide_type": "fragment"
    }
   },
   "source": [
    "### What is a Jupyter Notebook?\n",
    "- Jupyter notebooks are **documents** (a little like a Word document) that can contain and run code.\n",
    "- They were originally created for Python in the IPython projects, and adapted to Julia by the **IJulia** project.\n",
    "- They are very useful to **prototype**, draw **plots**, or even for teaching material like this one.\n",
    "- The document relies only on a modern browser for rendering, and can easily be **shared**."
   ]
  },
  {
   "cell_type": "markdown",
   "metadata": {
    "slideshow": {
     "slide_type": "slide"
    }
   },
   "source": [
    "### Installing IJulia and loading this notebook\n",
    "Once Julia is installed, start julia and just run the following command to install the `IJulia` package\n",
    "```jl\n",
    "Pkg.install(\"IJulia\")\n",
    "```\n",
    "This should work on its own. If there is any issue, check out the [IJulia website](https://github.com/JuliaLang/IJulia.jl).\n",
    "\n",
    "Once IJulia is installed, go to the notebook file (_.ipynb_) directory, start julia and run:\n",
    "```jl\n",
    "using IJulia\n",
    "notebook()\n",
    "```\n",
    "A webpage should open automatically, just click on the notebook to load it."
   ]
  },
  {
   "cell_type": "markdown",
   "metadata": {
    "slideshow": {
     "slide_type": "slide"
    }
   },
   "source": [
    "### Navigating the notebook\n",
    "\n",
    "- Click `Help -> User Interface Tour` for a guided tour of the interface.\n",
    "- Each notebook is composed of **cells**, that either contain code or text (`Markdown`).\n",
    "- You can edit the content of a cell by double-clicking on it (_Edit Mode_)."
   ]
  },
  {
   "cell_type": "markdown",
   "metadata": {
    "slideshow": {
     "slide_type": "slide"
    }
   },
   "source": [
    "When you are not editing a cell, you are in _Command mode_ and can edit the structure of the notebook (cells, name, options...):\n",
    "- Create a cell by:\n",
    "    - Clicking `Insert -> Insert Cell`\n",
    "    - Pressing `a` or `b` in Command Mode\n",
    "    - Pressing `Alt+Enter` in Edit Mode\n",
    "- Delete a cell by:\n",
    "    - Clicking `Edit -> Delete Cell`\n",
    "    - Pressing `dd`\n",
    "- Execute a cell by:\n",
    "    - Clicking `Cell -> Run`\n",
    "    - Pressing `Ctrl+Enter`"
   ]
  },
  {
   "cell_type": "markdown",
   "metadata": {
    "slideshow": {
     "slide_type": "slide"
    }
   },
   "source": [
    "Other functions:\n",
    "- Undo last text edit with `Ctrl+z` in Edit Mode\n",
    "- Undo last cell manipulation with `z` in Command Mode\n",
    "- Save notebook with `Ctrl+s` in Edit Mode\n",
    "- Save notebook with `s` in Command Mode\n",
    "\n",
    "Though notebooks rely on your browser to work, they do not require an internet connection (except for math rendering).\n"
   ]
  },
  {
   "cell_type": "markdown",
   "metadata": {
    "slideshow": {
     "slide_type": "slide"
    }
   },
   "source": [
    "### Get comfortable with the notebook\n",
    "Notebooks are designed to not be fragile. If you try to close a notebook with unsaved changes, the browser will warn you.\n",
    "\n",
    "Try the following exercises:"
   ]
  },
  {
   "cell_type": "markdown",
   "metadata": {
    "slideshow": {
     "slide_type": "fragment"
    }
   },
   "source": [
    ">**\\[Exercise\\]**: Close/open\n",
    "\n",
    ">1. Save the notebook\n",
    ">2. Copy the address\n",
    ">3. Close the tab\n",
    ">4. Paste the address into a new tab (or re-open the last closed tab with `Ctrl+Shift+T` on Chrome)\n",
    "\n",
    ">_The document is still there, and the Julia kernel is still alive! Nothing is lost._"
   ]
  },
  {
   "cell_type": "markdown",
   "metadata": {
    "slideshow": {
     "slide_type": "subslide"
    }
   },
   "source": [
    ">**\\[Exercise\\]**: Zoom\n",
    "\n",
    ">Try changing the magnification of the web page (`Ctrl+, Ctrl-` on Chrome).\n",
    "\n",
    ">_Text and math scale well (so do graphics if you use an SVG or PDF backend)._"
   ]
  },
  {
   "cell_type": "markdown",
   "metadata": {
    "slideshow": {
     "slide_type": "subslide"
    }
   },
   "source": [
    ">**\\[Exercise\\]**: MathJax\n",
    ">1. Create a new cell, and select the type `Markdown` (or press `m`)\n",
    ">2. Type an opening \\$, your favorite mathematical expression, and a closing \\$.\n",
    ">3. Run the cell to render the $\\LaTeX$ expression.\n",
    ">4. Right-click the rendered expression."
   ]
  },
  {
   "cell_type": "markdown",
   "metadata": {
    "slideshow": {
     "slide_type": "slide"
    }
   },
   "source": [
    "## Coding in Julia\n",
    "This section is a brief introduction to Julia. It is not a comprehensive tutorial but more a _taste_ of the language for those who do not know it, and a showcase of cool features for those who already know Julia.\n",
    "\n",
    "Very good [tutorials](http://julialang.org/learning/) are available online and in books if you are interested in learning the language."
   ]
  },
  {
   "cell_type": "markdown",
   "metadata": {
    "slideshow": {
     "slide_type": "slide"
    }
   },
   "source": [
    "### Basic use\n",
    "Julia, as a dynamic language, can simply be used as a calculator:"
   ]
  },
  {
   "cell_type": "code",
   "execution_count": 12,
   "metadata": {
    "collapsed": false,
    "slideshow": {
     "slide_type": "fragment"
    }
   },
   "outputs": [
    {
     "data": {
      "text/plain": [
       "2"
      ]
     },
     "execution_count": 12,
     "metadata": {},
     "output_type": "execute_result"
    }
   ],
   "source": [
    "1+1"
   ]
  },
  {
   "cell_type": "code",
   "execution_count": 13,
   "metadata": {
    "collapsed": false,
    "slideshow": {
     "slide_type": "fragment"
    }
   },
   "outputs": [
    {
     "data": {
      "text/plain": [
       "-0.01136232398070678"
      ]
     },
     "execution_count": 13,
     "metadata": {},
     "output_type": "execute_result"
    }
   ],
   "source": [
    "sin(exp(2*pi)+sqrt(3))"
   ]
  },
  {
   "cell_type": "markdown",
   "metadata": {
    "slideshow": {
     "slide_type": "slide"
    }
   },
   "source": [
    "The building blocs of Julia code are variables:"
   ]
  },
  {
   "cell_type": "code",
   "execution_count": 3,
   "metadata": {
    "collapsed": false,
    "slideshow": {
     "slide_type": "fragment"
    }
   },
   "outputs": [
    {
     "data": {
      "text/plain": [
       "9"
      ]
     },
     "execution_count": 3,
     "metadata": {},
     "output_type": "execute_result"
    }
   ],
   "source": [
    "a = 1\n",
    "b = 2\n",
    "# This is a comment \n",
    "c = a^2 + b^3 "
   ]
  },
  {
   "cell_type": "markdown",
   "metadata": {
    "slideshow": {
     "slide_type": "slide"
    }
   },
   "source": [
    "Julia supports the common `if`, `while` and `for` structures:"
   ]
  },
  {
   "cell_type": "code",
   "execution_count": 4,
   "metadata": {
    "collapsed": false,
    "slideshow": {
     "slide_type": "subslide"
    }
   },
   "outputs": [
    {
     "name": "stdout",
     "output_type": "stream",
     "text": [
      "Huchette"
     ]
    }
   ],
   "source": [
    "if c >= 10\n",
    "    print(\"Joey\")\n",
    "else\n",
    "    print(\"Huchette\")\n",
    "end"
   ]
  },
  {
   "cell_type": "code",
   "execution_count": 5,
   "metadata": {
    "collapsed": false,
    "slideshow": {
     "slide_type": "subslide"
    }
   },
   "outputs": [
    {
     "name": "stdout",
     "output_type": "stream",
     "text": [
      "Joey!\n",
      "Joey!\n",
      "Joey!\n",
      "Joey!\n",
      "Joey!\n"
     ]
    }
   ],
   "source": [
    "i = 1\n",
    "while i <= 5\n",
    "    println(\"Joey!\") # Print with a new line\n",
    "    i += 1\n",
    "end"
   ]
  },
  {
   "cell_type": "code",
   "execution_count": 6,
   "metadata": {
    "collapsed": false,
    "slideshow": {
     "slide_type": "subslide"
    }
   },
   "outputs": [
    {
     "name": "stdout",
     "output_type": "stream",
     "text": [
      "1 Joey\n",
      "2 Joeys\n",
      "3 Joeys\n"
     ]
    }
   ],
   "source": [
    "for i = 1:3\n",
    "    print(\"$i Joey\") # '$' can be used to insert variables into text\n",
    "    if i>1\n",
    "        print(\"s\")\n",
    "    end\n",
    "    println() # Just a new line\n",
    "end"
   ]
  },
  {
   "cell_type": "markdown",
   "metadata": {
    "slideshow": {
     "slide_type": "subslide"
    }
   },
   "source": [
    "**Do not worry about writing loops**: in Julia, they are as fast as writing vectorized code, and sometimes faster!"
   ]
  },
  {
   "cell_type": "markdown",
   "metadata": {
    "slideshow": {
     "slide_type": "slide"
    }
   },
   "source": [
    "**Arrays** (list of numbers) are at the core of research computing and Julia's arrays are extremely optimized."
   ]
  },
  {
   "cell_type": "code",
   "execution_count": 9,
   "metadata": {
    "collapsed": false,
    "slideshow": {
     "slide_type": "fragment"
    }
   },
   "outputs": [
    {
     "data": {
      "text/plain": [
       "3-element Array{Int64,1}:\n",
       " 1\n",
       " 2\n",
       " 3"
      ]
     },
     "execution_count": 9,
     "metadata": {},
     "output_type": "execute_result"
    }
   ],
   "source": [
    "myList = [1, 2, 3]"
   ]
  },
  {
   "cell_type": "markdown",
   "metadata": {
    "slideshow": {
     "slide_type": "fragment"
    }
   },
   "source": [
    "Array indexing starts with 1 in Julia:"
   ]
  },
  {
   "cell_type": "code",
   "execution_count": 10,
   "metadata": {
    "collapsed": false,
    "slideshow": {
     "slide_type": "fragment"
    }
   },
   "outputs": [
    {
     "data": {
      "text/plain": [
       "1"
      ]
     },
     "execution_count": 10,
     "metadata": {},
     "output_type": "execute_result"
    }
   ],
   "source": [
    "myList[1]"
   ]
  },
  {
   "cell_type": "code",
   "execution_count": 11,
   "metadata": {
    "collapsed": false,
    "slideshow": {
     "slide_type": "fragment"
    }
   },
   "outputs": [
    {
     "data": {
      "text/plain": [
       "3-element Array{Int64,1}:\n",
       " 1\n",
       " 2\n",
       " 4"
      ]
     },
     "execution_count": 11,
     "metadata": {},
     "output_type": "execute_result"
    }
   ],
   "source": [
    "myList[3] = 4\n",
    "myList"
   ]
  },
  {
   "cell_type": "markdown",
   "metadata": {
    "slideshow": {
     "slide_type": "slide"
    }
   },
   "source": [
    "A 2-dimensional array is a Matrix"
   ]
  },
  {
   "cell_type": "code",
   "execution_count": 14,
   "metadata": {
    "collapsed": false,
    "slideshow": {
     "slide_type": "fragment"
    }
   },
   "outputs": [
    {
     "data": {
      "text/plain": [
       "3×3 Array{Int64,2}:\n",
       " 1  2  3\n",
       " 2  1  2\n",
       " 3  2  1"
      ]
     },
     "execution_count": 14,
     "metadata": {},
     "output_type": "execute_result"
    }
   ],
   "source": [
    "A = [1 2 3\n",
    "     2 1 2\n",
    "     3 2 1]\n",
    "\n",
    "A = [1 2 3; 2 1 2; 3 2 1] #same thing"
   ]
  },
  {
   "cell_type": "markdown",
   "metadata": {
    "slideshow": {
     "slide_type": "slide"
    }
   },
   "source": [
    "Matrix can be multiplied, inversed..."
   ]
  },
  {
   "cell_type": "code",
   "execution_count": 15,
   "metadata": {
    "collapsed": false,
    "slideshow": {
     "slide_type": "subslide"
    }
   },
   "outputs": [
    {
     "data": {
      "text/plain": [
       "3×3 Array{Float64,2}:\n",
       " 1.0  2.0  3.0\n",
       " 2.0  1.0  2.0\n",
       " 3.0  2.0  1.0"
      ]
     },
     "execution_count": 15,
     "metadata": {},
     "output_type": "execute_result"
    }
   ],
   "source": [
    "A^-1 #inverse\n",
    "\n",
    "A^2 * A^-1"
   ]
  },
  {
   "cell_type": "code",
   "execution_count": 16,
   "metadata": {
    "collapsed": false,
    "slideshow": {
     "slide_type": "subslide"
    }
   },
   "outputs": [
    {
     "data": {
      "text/plain": [
       "3-element Array{Int64,1}:\n",
       " 14\n",
       " 10\n",
       " 10"
      ]
     },
     "execution_count": 16,
     "metadata": {},
     "output_type": "execute_result"
    }
   ],
   "source": [
    "A*[1,2,3]"
   ]
  },
  {
   "cell_type": "code",
   "execution_count": 17,
   "metadata": {
    "collapsed": false,
    "slideshow": {
     "slide_type": "subslide"
    }
   },
   "outputs": [
    {
     "data": {
      "text/plain": [
       "3-element Array{Float64,1}:\n",
       " -2.0     \n",
       " -0.701562\n",
       "  5.70156 "
      ]
     },
     "execution_count": 17,
     "metadata": {},
     "output_type": "execute_result"
    }
   ],
   "source": [
    "eigenValues, eigenVectors = eig(A)\n",
    "eigenValues"
   ]
  },
  {
   "cell_type": "markdown",
   "metadata": {
    "slideshow": {
     "slide_type": "slide"
    }
   },
   "source": [
    "**Types:** Everything has a type in Julia"
   ]
  },
  {
   "cell_type": "code",
   "execution_count": 18,
   "metadata": {
    "collapsed": false,
    "slideshow": {
     "slide_type": "fragment"
    }
   },
   "outputs": [
    {
     "data": {
      "text/plain": [
       "Int64"
      ]
     },
     "execution_count": 18,
     "metadata": {},
     "output_type": "execute_result"
    }
   ],
   "source": [
    "typeof(1)"
   ]
  },
  {
   "cell_type": "code",
   "execution_count": 19,
   "metadata": {
    "collapsed": false,
    "slideshow": {
     "slide_type": "fragment"
    }
   },
   "outputs": [
    {
     "data": {
      "text/plain": [
       "Float64"
      ]
     },
     "execution_count": 19,
     "metadata": {},
     "output_type": "execute_result"
    }
   ],
   "source": [
    "typeof(1.5)"
   ]
  },
  {
   "cell_type": "code",
   "execution_count": 20,
   "metadata": {
    "collapsed": false,
    "slideshow": {
     "slide_type": "fragment"
    }
   },
   "outputs": [
    {
     "data": {
      "text/plain": [
       "String"
      ]
     },
     "execution_count": 20,
     "metadata": {},
     "output_type": "execute_result"
    }
   ],
   "source": [
    "typeof(\"abc\")"
   ]
  },
  {
   "cell_type": "markdown",
   "metadata": {
    "slideshow": {
     "slide_type": "slide"
    }
   },
   "source": [
    "Types are at the core of Julia's performance. **[multiple dispatch](https://en.wikipedia.org/wiki/Multiple_dispatch)** is used dynamically when a function is called, selecting the right version of the function depending on the type of its argument."
   ]
  },
  {
   "cell_type": "code",
   "execution_count": 21,
   "metadata": {
    "collapsed": false,
    "slideshow": {
     "slide_type": "subslide"
    }
   },
   "outputs": [
    {
     "data": {
      "text/plain": [
       "1//2"
      ]
     },
     "execution_count": 21,
     "metadata": {},
     "output_type": "execute_result"
    }
   ],
   "source": [
    "1//2"
   ]
  },
  {
   "cell_type": "code",
   "execution_count": 22,
   "metadata": {
    "collapsed": false,
    "slideshow": {
     "slide_type": "subslide"
    }
   },
   "outputs": [
    {
     "data": {
      "text/plain": [
       "Rational{Int64}"
      ]
     },
     "execution_count": 22,
     "metadata": {},
     "output_type": "execute_result"
    }
   ],
   "source": [
    "typeof(1//2)"
   ]
  },
  {
   "cell_type": "code",
   "execution_count": 23,
   "metadata": {
    "collapsed": false,
    "slideshow": {
     "slide_type": "subslide"
    }
   },
   "outputs": [
    {
     "data": {
      "text/plain": [
       "1//4"
      ]
     },
     "execution_count": 23,
     "metadata": {},
     "output_type": "execute_result"
    }
   ],
   "source": [
    "(1//2)^2"
   ]
  },
  {
   "cell_type": "code",
   "execution_count": 24,
   "metadata": {
    "collapsed": false,
    "slideshow": {
     "slide_type": "subslide"
    }
   },
   "outputs": [
    {
     "data": {
      "text/plain": [
       "0.25"
      ]
     },
     "execution_count": 24,
     "metadata": {},
     "output_type": "execute_result"
    }
   ],
   "source": [
    "(0.5)^2 # The same function gives different results depending on the type"
   ]
  },
  {
   "cell_type": "code",
   "execution_count": 25,
   "metadata": {
    "collapsed": false,
    "slideshow": {
     "slide_type": "subslide"
    }
   },
   "outputs": [
    {
     "data": {
      "text/plain": [
       "-1 + 0im"
      ]
     },
     "execution_count": 25,
     "metadata": {},
     "output_type": "execute_result"
    }
   ],
   "source": [
    "(im)^2 # This also works with complex numbers"
   ]
  },
  {
   "cell_type": "code",
   "execution_count": 26,
   "metadata": {
    "collapsed": false,
    "slideshow": {
     "slide_type": "subslide"
    }
   },
   "outputs": [
    {
     "name": "stdout",
     "output_type": "stream",
     "text": [
      "Julia!\n",
      "IJulia!\n",
      "Julia!\n"
     ]
    }
   ],
   "source": [
    "function myFunction(x)\n",
    "    println(\"Julia!\")\n",
    "end\n",
    "\n",
    "function myFunction(x::Int) # only called when x is an integer\n",
    "    println(\"IJulia!\")\n",
    "end\n",
    "\n",
    "myFunction(1.0)\n",
    "myFunction(1)\n",
    "myFunction(\"Joey\")"
   ]
  },
  {
   "cell_type": "markdown",
   "metadata": {
    "slideshow": {
     "slide_type": "slide"
    }
   },
   "source": [
    "A lot more functionalities are available and for you to discover!"
   ]
  },
  {
   "cell_type": "code",
   "execution_count": 27,
   "metadata": {
    "collapsed": false,
    "slideshow": {
     "slide_type": "fragment"
    }
   },
   "outputs": [
    {
     "data": {
      "text/plain": [
       "5-element Array{Int64,1}:\n",
       "   4\n",
       "  16\n",
       "  36\n",
       "  64\n",
       " 100"
      ]
     },
     "execution_count": 27,
     "metadata": {},
     "output_type": "execute_result"
    }
   ],
   "source": [
    "l = [i^2 for i in 1:10 if i%2 == 0] # list comprehensions (similar to Python)"
   ]
  },
  {
   "cell_type": "markdown",
   "metadata": {
    "slideshow": {
     "slide_type": "slide"
    }
   },
   "source": [
    "### Navigating Julia\n",
    "Julia has a package manager to quickly download, install, update and uninstall new tools (_packages_)"
   ]
  },
  {
   "cell_type": "code",
   "execution_count": null,
   "metadata": {
    "collapsed": true,
    "slideshow": {
     "slide_type": "fragment"
    }
   },
   "outputs": [],
   "source": [
    "# Add Packages Plots, and Pyplot (can take some time)\n",
    "Pkg.add(\"Plots\")\n",
    "Pkg.add(\"PyPlot\")\n",
    "# Update\n",
    "Pkg.update()\n",
    "#Remove:\n",
    "# Pkg.rm(\"PyPlot\")"
   ]
  },
  {
   "cell_type": "markdown",
   "metadata": {
    "slideshow": {
     "slide_type": "slide"
    }
   },
   "source": [
    "Use `?` to get the documentation of a function"
   ]
  },
  {
   "cell_type": "code",
   "execution_count": 28,
   "metadata": {
    "collapsed": false,
    "slideshow": {
     "slide_type": "fragment"
    }
   },
   "outputs": [
    {
     "name": "stdout",
     "output_type": "stream",
     "text": [
      "search: \u001b[1me\u001b[22m\u001b[1mi\u001b[22m\u001b[1mg\u001b[22m \u001b[1me\u001b[22m\u001b[1mi\u001b[22m\u001b[1mg\u001b[22ms \u001b[1me\u001b[22m\u001b[1mi\u001b[22m\u001b[1mg\u001b[22mmin \u001b[1me\u001b[22m\u001b[1mi\u001b[22m\u001b[1mg\u001b[22mmax \u001b[1me\u001b[22m\u001b[1mi\u001b[22m\u001b[1mg\u001b[22mvecs \u001b[1me\u001b[22m\u001b[1mi\u001b[22m\u001b[1mg\u001b[22mvals \u001b[1me\u001b[22m\u001b[1mi\u001b[22m\u001b[1mg\u001b[22mfact \u001b[1me\u001b[22m\u001b[1mi\u001b[22m\u001b[1mg\u001b[22mvals! \u001b[1me\u001b[22m\u001b[1mi\u001b[22m\u001b[1mg\u001b[22mfact!\n",
      "\n"
     ]
    },
    {
     "data": {
      "text/markdown": [
       "```\n",
       "eig(A,[irange,][vl,][vu,][permute=true,][scale=true]) -> D, V\n",
       "```\n",
       "\n",
       "Computes eigenvalues (`D`) and eigenvectors (`V`) of `A`. See [`eigfact`](:func:`eigfact`) for details on the `irange`, `vl`, and `vu` arguments and the `permute` and `scale` keyword arguments. The eigenvectors are returned columnwise.\n",
       "\n",
       "```jldoctest\n",
       "julia> eig([1.0 0.0 0.0; 0.0 3.0 0.0; 0.0 0.0 18.0])\n",
       "([1.0,3.0,18.0],\n",
       "[1.0 0.0 0.0; 0.0 1.0 0.0; 0.0 0.0 1.0])\n",
       "```\n",
       "\n",
       "`eig` is a wrapper around [`eigfact`](:func:`eigfact`), extracting all parts of the factorization to a tuple; where possible, using [`eigfact`](:func:`eigfact`) is recommended.\n",
       "\n",
       "```\n",
       "eig(A, B) -> D, V\n",
       "```\n",
       "\n",
       "Computes generalized eigenvalues (`D`) and vectors (`V`) of `A` with respect to `B`.\n",
       "\n",
       "`eig` is a wrapper around [`eigfact`](:func:`eigfact`), extracting all parts of the factorization to a tuple; where possible, using [`eigfact`](:func:`eigfact`) is recommended.\n",
       "\n",
       "```jldoctest\n",
       "julia> A = [1 0; 0 -1]\n",
       "2×2 Array{Int64,2}:\n",
       " 1   0\n",
       " 0  -1\n",
       "\n",
       "julia> B = [0 1; 1 0]\n",
       "2×2 Array{Int64,2}:\n",
       " 0  1\n",
       " 1  0\n",
       "\n",
       "julia> eig(A, B)\n",
       "(Complex{Float64}[0.0+1.0im,0.0-1.0im],\n",
       "Complex{Float64}[0.0-1.0im 0.0+1.0im; -1.0-0.0im -1.0+0.0im])\n",
       "```\n"
      ],
      "text/plain": [
       "```\n",
       "eig(A,[irange,][vl,][vu,][permute=true,][scale=true]) -> D, V\n",
       "```\n",
       "\n",
       "Computes eigenvalues (`D`) and eigenvectors (`V`) of `A`. See [`eigfact`](:func:`eigfact`) for details on the `irange`, `vl`, and `vu` arguments and the `permute` and `scale` keyword arguments. The eigenvectors are returned columnwise.\n",
       "\n",
       "```jldoctest\n",
       "julia> eig([1.0 0.0 0.0; 0.0 3.0 0.0; 0.0 0.0 18.0])\n",
       "([1.0,3.0,18.0],\n",
       "[1.0 0.0 0.0; 0.0 1.0 0.0; 0.0 0.0 1.0])\n",
       "```\n",
       "\n",
       "`eig` is a wrapper around [`eigfact`](:func:`eigfact`), extracting all parts of the factorization to a tuple; where possible, using [`eigfact`](:func:`eigfact`) is recommended.\n",
       "\n",
       "```\n",
       "eig(A, B) -> D, V\n",
       "```\n",
       "\n",
       "Computes generalized eigenvalues (`D`) and vectors (`V`) of `A` with respect to `B`.\n",
       "\n",
       "`eig` is a wrapper around [`eigfact`](:func:`eigfact`), extracting all parts of the factorization to a tuple; where possible, using [`eigfact`](:func:`eigfact`) is recommended.\n",
       "\n",
       "```jldoctest\n",
       "julia> A = [1 0; 0 -1]\n",
       "2×2 Array{Int64,2}:\n",
       " 1   0\n",
       " 0  -1\n",
       "\n",
       "julia> B = [0 1; 1 0]\n",
       "2×2 Array{Int64,2}:\n",
       " 0  1\n",
       " 1  0\n",
       "\n",
       "julia> eig(A, B)\n",
       "(Complex{Float64}[0.0+1.0im,0.0-1.0im],\n",
       "Complex{Float64}[0.0-1.0im 0.0+1.0im; -1.0-0.0im -1.0+0.0im])\n",
       "```\n"
      ]
     },
     "execution_count": 28,
     "metadata": {},
     "output_type": "execute_result"
    }
   ],
   "source": [
    "?eig"
   ]
  },
  {
   "cell_type": "markdown",
   "metadata": {
    "slideshow": {
     "slide_type": "slide"
    }
   },
   "source": [
    "Use tab-completion to auto-complete functions and variables names: try ``myF<TAB>``:"
   ]
  },
  {
   "cell_type": "code",
   "execution_count": null,
   "metadata": {
    "collapsed": false,
    "slideshow": {
     "slide_type": "fragment"
    }
   },
   "outputs": [],
   "source": [
    "myF\n",
    "fac"
   ]
  },
  {
   "cell_type": "markdown",
   "metadata": {
    "slideshow": {
     "slide_type": "slide"
    }
   },
   "source": [
    "The ``methods`` function lists all of the different implementations of a function depending on the input types.\n",
    "Click on the link to see the Julia source code."
   ]
  },
  {
   "cell_type": "code",
   "execution_count": 29,
   "metadata": {
    "collapsed": false,
    "slideshow": {
     "slide_type": "fragment"
    }
   },
   "outputs": [
    {
     "data": {
      "text/html": [
       "10 methods for generic function <b>sin</b>:<ul><li> sin(x::<b>BigFloat</b>) at <a href=\"https://github.com/JuliaLang/julia/tree/3c9d75391c72d7c32eea75ff187ce77b2d5effc8/base/mpfr.jl#L610\" target=\"_blank\">mpfr.jl:610</a></li> <li> sin(a::<b>Complex{Float16}</b>) at <a href=\"https://github.com/JuliaLang/julia/tree/3c9d75391c72d7c32eea75ff187ce77b2d5effc8/base/math.jl#L480\" target=\"_blank\">math.jl:480</a></li> <li> sin(a::<b>Float16</b>) at <a href=\"https://github.com/JuliaLang/julia/tree/3c9d75391c72d7c32eea75ff187ce77b2d5effc8/base/math.jl#L479\" target=\"_blank\">math.jl:479</a></li> <li> sin(x::<b>Float32</b>) at <a href=\"https://github.com/JuliaLang/julia/tree/3c9d75391c72d7c32eea75ff187ce77b2d5effc8/base/math.jl#L203\" target=\"_blank\">math.jl:203</a></li> <li> sin(x::<b>Float64</b>) at <a href=\"https://github.com/JuliaLang/julia/tree/3c9d75391c72d7c32eea75ff187ce77b2d5effc8/base/math.jl#L202\" target=\"_blank\">math.jl:202</a></li> <li> sin<i>{T}</i>(z::<b>Complex{T}</b>) at <a href=\"https://github.com/JuliaLang/julia/tree/3c9d75391c72d7c32eea75ff187ce77b2d5effc8/base/complex.jl#L575\" target=\"_blank\">complex.jl:575</a></li> <li> sin(x::<b>Real</b>) at <a href=\"https://github.com/JuliaLang/julia/tree/3c9d75391c72d7c32eea75ff187ce77b2d5effc8/base/math.jl#L204\" target=\"_blank\">math.jl:204</a></li> <li> sin<i>{Tv,Ti}</i>(A::<b>SparseMatrixCSC{Tv,Ti}</b>) at <a href=\"https://github.com/JuliaLang/julia/tree/3c9d75391c72d7c32eea75ff187ce77b2d5effc8/base/sparse/sparsematrix.jl#L1347\" target=\"_blank\">sparse/sparsematrix.jl:1347</a></li> <li> sin<i>{Tv<:Number,Ti<:Integer}</i>(x::<b>AbstractSparseArray{Tv,Ti,1}</b>) at <a href=\"https://github.com/JuliaLang/julia/tree/3c9d75391c72d7c32eea75ff187ce77b2d5effc8/base/sparse/sparsevector.jl#L853\" target=\"_blank\">sparse/sparsevector.jl:853</a></li> <li> sin<i>{T<:Number}</i>(x::<b>AbstractArray{T,N<:Any}</b>) at <a href=\"https://github.com/JuliaLang/julia/tree/3c9d75391c72d7c32eea75ff187ce77b2d5effc8/base/operators.jl#L555\" target=\"_blank\">operators.jl:555</a></li> </ul>"
      ],
      "text/plain": [
       "# 10 methods for generic function \"sin\":\n",
       "sin(x::BigFloat) at mpfr.jl:610\n",
       "sin(a::Complex{Float16}) at math.jl:480\n",
       "sin(a::Float16) at math.jl:479\n",
       "sin(x::Float32) at math.jl:203\n",
       "sin(x::Float64) at math.jl:202\n",
       "sin{T}(z::Complex{T}) at complex.jl:575\n",
       "sin(x::Real) at math.jl:204\n",
       "sin{Tv,Ti}(A::SparseMatrixCSC{Tv,Ti}) at sparse/sparsematrix.jl:1347\n",
       "sin{Tv<:Number,Ti<:Integer}(x::AbstractSparseArray{Tv,Ti,1}) at sparse/sparsevector.jl:853\n",
       "sin{T<:Number}(x::AbstractArray{T,N<:Any}) at operators.jl:555"
      ]
     },
     "execution_count": 29,
     "metadata": {},
     "output_type": "execute_result"
    }
   ],
   "source": [
    "methods(sin)"
   ]
  },
  {
   "cell_type": "markdown",
   "metadata": {
    "slideshow": {
     "slide_type": "slide"
    }
   },
   "source": [
    "### Plotting in IJulia\n",
    "\n",
    "Julia has a lot of available "
   ]
  },
  {
   "cell_type": "markdown",
   "metadata": {},
   "source": [
    "## Advanced use of Julia and Notebooks\n",
    "Here list of tip/tricks for advanced users\n",
    "- Github && sharing (gist)\n",
    "- Slides\n",
    "- Command line (;)\n",
    "- Jupyter command line (??)\n",
    "- Advanced Markdown, LaTeX, code highlighting?\n",
    "- Possibility of running notebook on remote computer\n",
    "- Unicode characters\n",
    "- cool packages\n",
    "- Juno\n",
    "- macro, advanced language features...\n",
    "- Interactivity\n",
    "\n",
    "## Footnote about adapted material"
   ]
  },
  {
   "cell_type": "markdown",
   "metadata": {
    "slideshow": {
     "slide_type": "slide"
    }
   },
   "source": [
    "\n",
    "\n"
   ]
  },
  {
   "cell_type": "markdown",
   "metadata": {},
   "source": [
    "## Plotting\n",
    "There are several Julia plotting packages. \n",
    "\n",
    "* [PyPlot.jl][4] is a Julia interface to Matplotlib, and should feel familiar to both MATLAB and Python users.\n",
    "* [Winston][3] and [Gadfly][1] are written entirely in Julia.  Winston is for general-purpose 2D plotting, and Gadfly (inspired by ggplot2) concentrates on statistical graphics.\n",
    "* [Plotly supports Julia][2].\n",
    "\n",
    "[1]: https://github.com/dcjones/Gadfly.jl\n",
    "[2]: https://plot.ly/julia/\n",
    "[3]: https://github.com/nolta/Winston.jl\n",
    "[4]: https://github.com/stevengj/PyPlot.jl"
   ]
  },
  {
   "cell_type": "code",
   "execution_count": null,
   "metadata": {
    "collapsed": false
   },
   "outputs": [],
   "source": [
    "using PyPlot\n",
    "\n",
    "# Example from PyPlot documentation:\n",
    "x = linspace(0,2*pi,1000)\n",
    "y = sin(3*x + 4*cos(2*x))\n",
    "plot(x, y,  color=\"red\", \n",
    "            linewidth=2.0, \n",
    "            linestyle=\"--\")\n",
    "title(\"A sinusoidally modulated sinusoid\");"
   ]
  },
  {
   "cell_type": "markdown",
   "metadata": {},
   "source": [
    "## Sharing notebooks"
   ]
  },
  {
   "cell_type": "markdown",
   "metadata": {},
   "source": [
    "Notebooks are self contained and standalone (unless they explicitly ``include()`` other Julia code). You can email them to friends, professors, and even post them online in viewable read-only form.\n",
    "\n",
    "_Click `File -> Download as -> IPython Notebook (.ipynb)` to save a copy of the notebook._"
   ]
  },
  {
   "cell_type": "markdown",
   "metadata": {},
   "source": [
    ">**\\[Exercise\\]**: Share your code\n",
    "\n",
    "> 1. Create a new notebook with some text, figures, and code.\n",
    "> 2. Save it to your desktop.\n",
    "> 3. Open the .ipynb file with a text editor, select all the text and copy it to the clipboard.\n",
    "> 4. Open [gist.github.com](https://gist.github.com/) and paste the text.\n",
    "> 5. Name the file foo.ipynb and click \"Create public Gist\".\n",
    "> 6. On the next page, click on \"Raw\".\n",
    "> 7. Copy the URL to the clipboard and open a new tab with [nbviewer](http://nbviewer.ipython.org/).\n",
    "> 8. Paste the URL to the raw ipynb into the text box and click \"Go!\"\n",
    "\n",
    "> _You now have an emailable link to share your notebook. An installation of IJulia is not required to view it!_\n",
    "\n",
    "The ``http://nbviewer.ipython.org/urls/..`` link is permanent so long as the original source (gist) exists."
   ]
  },
  {
   "cell_type": "markdown",
   "metadata": {},
   "source": [
    "-------\n",
    "\n",
    "Some content in this notebook was adapted from materials by [Jonas Kersulis](https://github.com/kersulis/IJulia-WPS)"
   ]
  }
 ],
 "metadata": {
  "celltoolbar": "Slideshow",
  "kernelspec": {
   "display_name": "Julia 0.5.0",
   "language": "julia",
   "name": "julia-0.5"
  },
  "language_info": {
   "file_extension": ".jl",
   "mimetype": "application/julia",
   "name": "julia",
   "version": "0.5.0"
  }
 },
 "nbformat": 4,
 "nbformat_minor": 0
}
