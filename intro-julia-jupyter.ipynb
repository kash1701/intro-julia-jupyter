{
 "cells": [
  {
   "cell_type": "markdown",
   "metadata": {},
   "source": [
    "# Introduction to Julia and IJulia/Jupyter\n",
    "<table>\n",
    "<tr>\n",
    "<td> <a href=\"http://julialang.org\"><img src=\"src/figures/julia.svg\" alt=\"Julia\" style=\"width: 150px;\"/></a></td>\n",
    "<td> <a href=\"http://jupyter.org\"><img src=\"src/figures/jupyter.png\" alt=\"Jupyter\" style=\"width: 150px;\"/></a></td>\n",
    "<td> <a href=\"https://github.com/JuliaLang/IJulia.jl\"><img src=\"src/figures/ijulia.png\" alt=\"IJulia\" style=\"width: 150px;\"/></a></td>\n",
    "</tr></table>"
   ]
  },
  {
   "cell_type": "markdown",
   "metadata": {},
   "source": [
    "This notebook is an introduction to the language **Julia**, and the use of the IJulia/Jupyter notebook in a statistics/optimization workflow. It is meant to be presented in 1 hour.\n",
    "The Julia language will be introduced quickly, the aim is to motivate the readers to learn the language by themselves using more thorough teaching material"
   ]
  },
  {
   "cell_type": "markdown",
   "metadata": {},
   "source": [
    "\n",
    "\n",
    "## Why using Julia?\n",
    "- Slides about Julia here (some work is needed, no code)\n",
    "\n",
    "## Jupyter/IJulia notebook basics\n",
    "\n",
    "- Interacting with cells, etc...\n",
    "\n",
    "## Coding in Julia\n",
    "\n",
    "- Start with small example, go more complicated quickly\n",
    "- Help and autocomplete\n",
    "- Plots, interactive, etc...\n",
    "\n",
    "## Advanced use of Julia and Notebooks\n",
    "Here list of tip/tricks for advanced users\n",
    "- Github && sharing (gist)\n",
    "- Slides\n",
    "- Command line (;)\n",
    "- Jupyter command line (??)\n",
    "- Advanced Markdown, LaTeX, code highlighting?\n",
    "- Possibility of running notebook on remote computer\n",
    "\n"
   ]
  },
  {
   "cell_type": "markdown",
   "metadata": {
    "slideshow": {
     "slide_type": "slide"
    }
   },
   "source": [
    "## Navigating IJulia notebooks\n",
    "_Click `Help -> User Interface Tour`_\n",
    "\n",
    "**Think of the notebook as a document that can interact with your computer.** The document relies only on a modern browser for rendering. When you connect the document to a Julia kernel and terminal instance on a computer, however, the document can send any command to the computer and show any output (text or graphics). \n",
    "\n",
    "* Each notebook is composed of cells\n",
    "* Two modes:\n",
    "    * Command Mode for creating or deleting cells, saving or renaming the notebook, and other application-level functions\n",
    "    * Edit Mode for manipulating text in individual cells\n",
    "* Create a cell by:\n",
    "    * Clicking `Insert -> Insert Cell`\n",
    "    * Pressing `a` or `b` in Command Mode\n",
    "    * Pressing `Alt+Enter` in Edit Mode\n",
    "* Delete a cell by:\n",
    "    * Clicking `Edit -> Delete Cell`\n",
    "    * Pressing `dd`\n",
    "* Execute a cell by:\n",
    "    * Clicking `Cell -> Run`\n",
    "    * Pressing `Ctrl+Enter`\n",
    "\n",
    "Other functions:\n",
    "* Undo last text edit with `Ctrl+z` in Edit Mode\n",
    "* Undo last cell manipulation with `z` in Command Mode\n",
    "* Save notebook with `Ctrl+s` in Edit Mode\n",
    "* Save notebook with `s` in Command Mode\n",
    "\n",
    "Though notebooks rely on your browser to work, they do not require an internet connection. The only online tool that is consistently used is MathJax (for math rendering).\n",
    "\n"
   ]
  },
  {
   "cell_type": "markdown",
   "metadata": {
    "slideshow": {
     "slide_type": "slide"
    }
   },
   "source": [
    "### Get comfortable with the notebook\n",
    "Notebooks are designed to not be fragile. If you try to close a notebook with unsaved changes, the browser will warn you.\n",
    "\n",
    "Try the following exercises:"
   ]
  },
  {
   "cell_type": "markdown",
   "metadata": {
    "slideshow": {
     "slide_type": "slide"
    }
   },
   "source": [
    ">**\\[Exercise\\]**: Close/open\n",
    "\n",
    ">1. Save the notebook\n",
    ">2. Copy the address\n",
    ">3. Close the tab\n",
    ">4. Paste the address into a new tab (or re-open the last closed tab with `Ctrl+Shift+T` on Chrome)\n",
    "\n",
    ">_The document is still there, and the Julia kernel is still alive! Nothing is lost._"
   ]
  },
  {
   "cell_type": "markdown",
   "metadata": {
    "slideshow": {
     "slide_type": "slide"
    }
   },
   "source": [
    ">**\\[Exercise\\]**: Zoom\n",
    "\n",
    ">Try changing the magnification of the web page (`Ctrl+, Ctrl-` on Chrome).\n",
    "\n",
    ">_Text and math scale well (so do graphics if you use an SVG or PDF backend)._"
   ]
  },
  {
   "cell_type": "markdown",
   "metadata": {
    "slideshow": {
     "slide_type": "slide"
    }
   },
   "source": [
    ">**\\[Exercise\\]**: MathJax\n",
    ">1. Create a new cell.\n",
    ">2. Type an opening \\$, your favorite mathematical expression, and a closing \\$.\n",
    ">3. Run the cell to render the $\\LaTeX$ expression.\n",
    ">4. Right-click the rendered expression."
   ]
  },
  {
   "cell_type": "markdown",
   "metadata": {
    "slideshow": {
     "slide_type": "slide"
    }
   },
   "source": [
    "## Navigating Julia"
   ]
  },
  {
   "cell_type": "markdown",
   "metadata": {
    "slideshow": {
     "slide_type": "slide"
    }
   },
   "source": [
    "Use the ``?name`` syntax to access the documentation for Julia functions"
   ]
  },
  {
   "cell_type": "code",
   "execution_count": 3,
   "metadata": {
    "collapsed": false,
    "slideshow": {
     "slide_type": "slide"
    }
   },
   "outputs": [
    {
     "name": "stdout",
     "output_type": "stream",
     "text": [
      "README.md\n",
      "intro-julia-jupyter.ipynb\n",
      "remotecomputing.pdf\n",
      "src\n"
     ]
    }
   ],
   "source": [
    ";ls"
   ]
  },
  {
   "cell_type": "code",
   "execution_count": null,
   "metadata": {
    "collapsed": false,
    "slideshow": {
     "slide_type": "slide"
    }
   },
   "outputs": [],
   "source": [
    "?print"
   ]
  },
  {
   "cell_type": "code",
   "execution_count": null,
   "metadata": {
    "collapsed": false
   },
   "outputs": [],
   "source": [
    "?sum"
   ]
  },
  {
   "cell_type": "markdown",
   "metadata": {},
   "source": [
    "The ``methods`` function lists all of the different implementations of a function depending on the input types.\n",
    "Click on the link to see the Julia source code."
   ]
  },
  {
   "cell_type": "code",
   "execution_count": null,
   "metadata": {
    "collapsed": false
   },
   "outputs": [],
   "source": [
    "methods(lufact)"
   ]
  },
  {
   "cell_type": "markdown",
   "metadata": {},
   "source": [
    "The ``methodswith`` function lists all of the different functions which may be applied to a given type."
   ]
  },
  {
   "cell_type": "code",
   "execution_count": null,
   "metadata": {
    "collapsed": false
   },
   "outputs": [],
   "source": [
    "methodswith(Complex)"
   ]
  },
  {
   "cell_type": "markdown",
   "metadata": {},
   "source": [
    "Use tab completion to search for function names.\n",
    "Try ``eig<TAB>`` for eigenvalues, ``read<TAB>`` for file input"
   ]
  },
  {
   "cell_type": "code",
   "execution_count": null,
   "metadata": {
    "collapsed": false
   },
   "outputs": [],
   "source": [
    "eig"
   ]
  },
  {
   "cell_type": "code",
   "execution_count": null,
   "metadata": {
    "collapsed": false
   },
   "outputs": [],
   "source": [
    "read"
   ]
  },
  {
   "cell_type": "markdown",
   "metadata": {},
   "source": [
    "## Plotting\n",
    "There are several Julia plotting packages. \n",
    "\n",
    "* [PyPlot.jl][4] is a Julia interface to Matplotlib, and should feel familiar to both MATLAB and Python users.\n",
    "* [Winston][3] and [Gadfly][1] are written entirely in Julia.  Winston is for general-purpose 2D plotting, and Gadfly (inspired by ggplot2) concentrates on statistical graphics.\n",
    "* [Plotly supports Julia][2].\n",
    "\n",
    "[1]: https://github.com/dcjones/Gadfly.jl\n",
    "[2]: https://plot.ly/julia/\n",
    "[3]: https://github.com/nolta/Winston.jl\n",
    "[4]: https://github.com/stevengj/PyPlot.jl"
   ]
  },
  {
   "cell_type": "code",
   "execution_count": null,
   "metadata": {
    "collapsed": false
   },
   "outputs": [],
   "source": [
    "using PyPlot\n",
    "\n",
    "# Example from PyPlot documentation:\n",
    "x = linspace(0,2*pi,1000)\n",
    "y = sin(3*x + 4*cos(2*x))\n",
    "plot(x, y,  color=\"red\", \n",
    "            linewidth=2.0, \n",
    "            linestyle=\"--\")\n",
    "title(\"A sinusoidally modulated sinusoid\");"
   ]
  },
  {
   "cell_type": "markdown",
   "metadata": {},
   "source": [
    "## Interactivity\n",
    "\n",
    "The [Interact](https://github.com/JuliaLang/Interact.jl) package enables interactivity in IJulia through the ``@manipulate`` macro."
   ]
  },
  {
   "cell_type": "code",
   "execution_count": null,
   "metadata": {
    "collapsed": false
   },
   "outputs": [],
   "source": [
    "using Interact\n",
    "@manipulate for x in 0:0.01:π\n",
    "    sin(x)\n",
    "end"
   ]
  },
  {
   "cell_type": "markdown",
   "metadata": {},
   "source": [
    "You can have multiple manipulators with continuous or discrete choices:"
   ]
  },
  {
   "cell_type": "code",
   "execution_count": null,
   "metadata": {
    "collapsed": false
   },
   "outputs": [],
   "source": [
    "@manipulate for x in 0:0.01:π, f in [:sin, :cos]\n",
    "    if f == :sin\n",
    "        sin(x)\n",
    "    else\n",
    "        cos(x)\n",
    "    end\n",
    "end"
   ]
  },
  {
   "cell_type": "markdown",
   "metadata": {},
   "source": [
    "**Note**: only the final value is updated"
   ]
  },
  {
   "cell_type": "code",
   "execution_count": 1,
   "metadata": {
    "collapsed": false
   },
   "outputs": [
    {
     "ename": "LoadError",
     "evalue": "UndefVarError: @manipulate not defined",
     "output_type": "error",
     "traceback": [
      "UndefVarError: @manipulate not defined",
      ""
     ]
    }
   ],
   "source": [
    "@manipulate for x in 0:0.01:π\n",
    "    println(\"My input was $x\")\n",
    "    sin(x)\n",
    "end"
   ]
  },
  {
   "cell_type": "markdown",
   "metadata": {},
   "source": [
    "You can embed a plot inside ``@manipulate`` for interactive visualizations."
   ]
  },
  {
   "cell_type": "code",
   "execution_count": null,
   "metadata": {
    "collapsed": false
   },
   "outputs": [],
   "source": [
    "f = figure()\n",
    "@manipulate for z in 0:0.01:1; withfig(f) do\n",
    "        x = linspace(0,2π,1000)\n",
    "        y = z*sin(x)\n",
    "        ylim(-1,1)\n",
    "        xlim(0,2π)\n",
    "        plot(x, y,  color=\"blue\", \n",
    "            linewidth=2.0, \n",
    "            linestyle=\"-\")\n",
    "    end\n",
    "end"
   ]
  },
  {
   "cell_type": "markdown",
   "metadata": {},
   "source": [
    "Here's the same using the ``Gadfly`` package instead of ``PyPlot``."
   ]
  },
  {
   "cell_type": "code",
   "execution_count": null,
   "metadata": {
    "collapsed": false
   },
   "outputs": [],
   "source": [
    "using Gadfly"
   ]
  },
  {
   "cell_type": "code",
   "execution_count": null,
   "metadata": {
    "collapsed": false
   },
   "outputs": [],
   "source": [
    "@manipulate for z in 0:0.01:1\n",
    "    x = linspace(0,2π,1000)\n",
    "    y = z*sin(x)\n",
    "    Gadfly.plot(x=x,y=y, Geom.line, Scale.y_continuous(minvalue=-1, maxvalue=1), Scale.x_continuous(minvalue=0, maxvalue=2π))\n",
    "end"
   ]
  },
  {
   "cell_type": "markdown",
   "metadata": {},
   "source": [
    ">**\\[Exercise\\]**: Gaussian density\n",
    "\n",
    "> Plot the Gaussian density $\\frac{1}{\\sigma \\sqrt{2\\pi} } e^{ -\\frac{(x-\\mu)^2}{2\\sigma^2} }$ with manipulators for both the mean $\\mu$ and standard deviation $\\sigma$\n"
   ]
  },
  {
   "cell_type": "markdown",
   "metadata": {},
   "source": [
    "## Sharing notebooks"
   ]
  },
  {
   "cell_type": "markdown",
   "metadata": {},
   "source": [
    "Notebooks are self contained and standalone (unless they explicitly ``include()`` other Julia code). You can email them to friends, professors, and even post them online in viewable read-only form.\n",
    "\n",
    "_Click `File -> Download as -> IPython Notebook (.ipynb)` to save a copy of the notebook._"
   ]
  },
  {
   "cell_type": "markdown",
   "metadata": {},
   "source": [
    ">**\\[Exercise\\]**: Share your code\n",
    "\n",
    "> 1. Create a new notebook with some text, figures, and code.\n",
    "> 2. Save it to your desktop.\n",
    "> 3. Open the .ipynb file with a text editor, select all the text and copy it to the clipboard.\n",
    "> 4. Open [gist.github.com](https://gist.github.com/) and paste the text.\n",
    "> 5. Name the file foo.ipynb and click \"Create public Gist\".\n",
    "> 6. On the next page, click on \"Raw\".\n",
    "> 7. Copy the URL to the clipboard and open a new tab with [nbviewer](http://nbviewer.ipython.org/).\n",
    "> 8. Paste the URL to the raw ipynb into the text box and click \"Go!\"\n",
    "\n",
    "> _You now have an emailable link to share your notebook. An installation of IJulia is not required to view it!_\n",
    "\n",
    "The ``http://nbviewer.ipython.org/urls/..`` link is permanent so long as the original source (gist) exists."
   ]
  },
  {
   "cell_type": "markdown",
   "metadata": {},
   "source": [
    "-------\n",
    "\n",
    "Some content in this notebook was adapted from materials by [Jonas Kersulis](https://github.com/kersulis/IJulia-WPS)"
   ]
  }
 ],
 "metadata": {
  "kernelspec": {
   "display_name": "Julia 0.5.0",
   "language": "julia",
   "name": "julia-0.5"
  },
  "language_info": {
   "file_extension": ".jl",
   "mimetype": "application/julia",
   "name": "julia",
   "version": "0.5.0"
  }
 },
 "nbformat": 4,
 "nbformat_minor": 0
}
